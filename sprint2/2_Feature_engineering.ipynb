{
 "cells": [
  {
   "cell_type": "code",
   "execution_count": 1,
   "metadata": {},
   "outputs": [],
   "source": [
    "## usar python 3.8.8\n",
    "import findspark\n",
    "findspark.init()"
   ]
  },
  {
   "cell_type": "code",
   "execution_count": 2,
   "metadata": {},
   "outputs": [],
   "source": [
    "# Importando SparkSession para criar uma sessão do Spark\n",
    "from pyspark.sql import SparkSession\n",
    "\n",
    "# Importando funções e tipos de dados SparkSQL\n",
    "from pyspark.sql import functions as f\n",
    "from pyspark.sql.types import *\n",
    "\n",
    "# Importando módulos Spark MLlib\n",
    "from pyspark.ml import Pipeline\n",
    "from pyspark.ml.feature import VectorAssembler, StringIndexer, OneHotEncoder\n",
    "from pyspark.ml.regression import LinearRegression\n",
    "from pyspark.ml.evaluation import RegressionEvaluator\n",
    "\n",
    "# Importando SparkContext e SparkConf\n",
    "from pyspark import SparkContext, SparkConf\n"
   ]
  },
  {
   "cell_type": "code",
   "execution_count": 3,
   "metadata": {},
   "outputs": [
    {
     "data": {
      "text/plain": [
       "'3.0.0'"
      ]
     },
     "execution_count": 3,
     "metadata": {},
     "output_type": "execute_result"
    }
   ],
   "source": [
    "\n",
    "# Criando uma nova sessão do Spark\n",
    "\n",
    "# Spark entry point\n",
    "spark = SparkSession \\\n",
    "    .builder \\\n",
    "    .appName(\"Feature_engineering-pkdd99-xpeMBA\") \\\n",
    "    .getOrCreate()\n",
    "\n",
    "spark.version\n"
   ]
  },
  {
   "cell_type": "code",
   "execution_count": 4,
   "metadata": {},
   "outputs": [],
   "source": [
    "\n",
    "def read_df_csv(tabela=str):\n",
    "    \"\"\"\n",
    "    Função para as bases de dados onde retorna no print o 'shape', um breve 'show' e o Scheema das variáveis.\n",
    "    :param entidade_name: string que referencie o nome da tabela que complete o caminho './dados_originais/{tabela}.csv'. \n",
    "    tabela pode ser => trans, account, card, client, disp, district, loan, order \n",
    "    :return: DataFrame em pyspark\n",
    "    \"\"\"\n",
    "    path =\"C:\\\\Users\\\\renat\\\\Documents\\\\00_MBA\\\\PROJETO_APLICADO\\\\ML-predict-loan-MBA-applied-project\\\\dados_tratados\"\n",
    "    df = spark.read.csv(path = f'{path}/{tabela}.csv', header='True',inferSchema='False', sep=';')\n",
    "    print('\\n','A base de dados possui:',df.count(), 'linhas', 'e', len(df.columns), 'colunas', '\\n')\n",
    "    print(df.show(5))\n",
    "    print(df.printSchema())\n",
    "    return(df)"
   ]
  },
  {
   "cell_type": "code",
   "execution_count": 5,
   "metadata": {},
   "outputs": [
    {
     "name": "stdout",
     "output_type": "stream",
     "text": [
      "\n",
      " A base de dados possui: 1056320 linhas e 10 colunas \n",
      "\n",
      "+--------+----------+----------+------+--------------+------+-------+--------+----+-------+\n",
      "|trans_id|account_id|      date|  type|     operation|amount|balance|category|bank|account|\n",
      "+--------+----------+----------+------+--------------+------+-------+--------+----+-------+\n",
      "|  695247|      2378|1993-01-01|credit|credit_in_cash| 700.0|  700.0|    null|null|   null|\n",
      "|  171812|       576|1993-01-01|credit|credit_in_cash| 900.0|  900.0|    null|null|   null|\n",
      "|  207264|       704|1993-01-01|credit|credit_in_cash|1000.0| 1000.0|    null|null|   null|\n",
      "| 1117247|      3818|1993-01-01|credit|credit_in_cash| 600.0|  600.0|    null|null|   null|\n",
      "|  579373|      1972|1993-01-02|credit|credit_in_cash| 400.0|  400.0|    null|null|   null|\n",
      "+--------+----------+----------+------+--------------+------+-------+--------+----+-------+\n",
      "only showing top 5 rows\n",
      "\n",
      "None\n",
      "root\n",
      " |-- trans_id: string (nullable = true)\n",
      " |-- account_id: string (nullable = true)\n",
      " |-- date: string (nullable = true)\n",
      " |-- type: string (nullable = true)\n",
      " |-- operation: string (nullable = true)\n",
      " |-- amount: string (nullable = true)\n",
      " |-- balance: string (nullable = true)\n",
      " |-- category: string (nullable = true)\n",
      " |-- bank: string (nullable = true)\n",
      " |-- account: string (nullable = true)\n",
      "\n",
      "None\n"
     ]
    }
   ],
   "source": [
    "trans_df = read_df_csv('trans')"
   ]
  },
  {
   "cell_type": "code",
   "execution_count": 6,
   "metadata": {},
   "outputs": [],
   "source": [
    "\n",
    "def read_df_csv(tabela=str):\n",
    "    \"\"\"\n",
    "    Função para as bases de dados onde retorna no print o 'shape', um breve 'show' e o Scheema das variáveis.\n",
    "    :param entidade_name: string que referencie o nome da tabela que complete o caminho './dados_originais/{tabela}.csv'. \n",
    "    tabela pode ser => account, card, client, disp, district, loan, order \n",
    "    :return: DataFrame em pyspark\n",
    "    \"\"\"\n",
    "    path =\"C:\\\\Users\\\\renat\\\\Documents\\\\00_MBA\\\\PROJETO_APLICADO\\\\ML-predict-loan-MBA-applied-project\\\\dados_mergeados\"\n",
    "    df = spark.read.csv(path = f'{path}', header='True',inferSchema='False', sep=',')\n",
    "    print('\\n','A base de dados possui:',df.count(), 'linhas', 'e', len(df.columns), 'colunas', '\\n')\n",
    "    print(df.show(5))\n",
    "    print(df.printSchema())\n",
    "    return(df)"
   ]
  },
  {
   "cell_type": "code",
   "execution_count": 7,
   "metadata": {},
   "outputs": [
    {
     "name": "stdout",
     "output_type": "stream",
     "text": [
      "\n",
      " A base de dados possui: 827 linhas e 20 colunas \n",
      "\n",
      "+-------+---------+---------------+----------------+--------+----------+---------+-------+----------+----------+------+--------+--------+------+----------+------------------+------+-------+---------+----------+\n",
      "|disp_id|client_id|account_id_acct|district_id_bank|stmt_frq| date_acct|type_disp|loan_id|account_id| date_loan|amount|duration|payments|status|date_birth|district_id_client|gender|card_id|type_card| date_card|\n",
      "+-------+---------+---------------+----------------+--------+----------+---------+-------+----------+----------+------+--------+--------+------+----------+------------------+------+-------+---------+----------+\n",
      "|  12430|    12738|          10351|              23| monthly|1995-05-04|    owner|   7115|     10351|1997-03-04| 88704|      48|  1848.0|     C|1960-10-29|                23|     F|   null|     null|      null|\n",
      "|  12431|    12739|          10351|              23| monthly|1995-05-04|disponent|   7115|     10351|1997-03-04| 88704|      48|  1848.0|     C|1958-01-17|                23|     M|   null|     null|      null|\n",
      "|  12532|    12840|          10436|              60| monthly|1996-03-21|    owner|   7136|     10436|1996-09-28| 54396|      36|  1511.0|     C|1939-07-27|                60|     M|   null|     null|      null|\n",
      "|   5965|     5965|           4937|              12| monthly|1993-02-20|    owner|   6004|      4937|1994-07-23|143904|      24|  5996.0|     A|1951-04-10|                50|     M|   null|     null|      null|\n",
      "|    810|      810|            675|              58| monthly|1995-08-03|    owner|   5110|       675|1997-04-01|102240|      60|  1704.0|     C|1945-09-24|                58|     F|    142|  classic|1998-07-01|\n",
      "+-------+---------+---------------+----------------+--------+----------+---------+-------+----------+----------+------+--------+--------+------+----------+------------------+------+-------+---------+----------+\n",
      "only showing top 5 rows\n",
      "\n",
      "None\n",
      "root\n",
      " |-- disp_id: string (nullable = true)\n",
      " |-- client_id: string (nullable = true)\n",
      " |-- account_id_acct: string (nullable = true)\n",
      " |-- district_id_bank: string (nullable = true)\n",
      " |-- stmt_frq: string (nullable = true)\n",
      " |-- date_acct: string (nullable = true)\n",
      " |-- type_disp: string (nullable = true)\n",
      " |-- loan_id: string (nullable = true)\n",
      " |-- account_id: string (nullable = true)\n",
      " |-- date_loan: string (nullable = true)\n",
      " |-- amount: string (nullable = true)\n",
      " |-- duration: string (nullable = true)\n",
      " |-- payments: string (nullable = true)\n",
      " |-- status: string (nullable = true)\n",
      " |-- date_birth: string (nullable = true)\n",
      " |-- district_id_client: string (nullable = true)\n",
      " |-- gender: string (nullable = true)\n",
      " |-- card_id: string (nullable = true)\n",
      " |-- type_card: string (nullable = true)\n",
      " |-- date_card: string (nullable = true)\n",
      "\n",
      "None\n"
     ]
    }
   ],
   "source": [
    "features = read_df_csv()"
   ]
  },
  {
   "cell_type": "code",
   "execution_count": 8,
   "metadata": {},
   "outputs": [],
   "source": [
    "def addcols_monbalstats(features,trans_df,M):\n",
    "    \n",
    "    trans_acctdate = trans_df.join(features.select('account_id','date_loan'),on='account_id',how='inner')\n",
    "    \n",
    "    # # descarte as transações que ocorreram após a data do empréstimo:\n",
    "    trans_acctdate = trans_acctdate.filter(f.col('date')<f.col('date_loan'))\n",
    "\n",
    "    # reduce to transactions with M*30days of the loan date (ie datediff < M*30):\n",
    "    trans_acctdate = trans_acctdate.withColumn('datediff', f.datediff('date_loan', 'date'))\n",
    "    trans_acctdate = trans_acctdate.filter(f.col('datediff') > M*30)\n",
    "\n",
    "    monbalstats = trans_acctdate.groupBy('account_id').agg(f.min('balance'),f.max('balance'),f.mean('balance')) ### TENTAR COLOCAR UM ROUND AQUI \n",
    "\n",
    "    monbalstats = monbalstats \\\n",
    "    .withColumnRenamed('min(balance)', 'min{}'.format(M)) \\\n",
    "    .withColumnRenamed('max(balance)', 'max{}'.format(M)) \\\n",
    "    .withColumnRenamed('avg(balance)', 'mean{}'.format(M))\n",
    "\n",
    "    features = features.join(monbalstats,on='account_id',how='left')\n",
    "    \n",
    "    return features"
   ]
  },
  {
   "cell_type": "code",
   "execution_count": 9,
   "metadata": {},
   "outputs": [],
   "source": [
    "features = addcols_monbalstats(features,trans_df,1)\n",
    "features = addcols_monbalstats(features,trans_df,2)\n",
    "features = addcols_monbalstats(features,trans_df,3)\n",
    "features = addcols_monbalstats(features,trans_df,4)\n",
    "features = addcols_monbalstats(features,trans_df,5)\n",
    "features = addcols_monbalstats(features,trans_df,6)"
   ]
  },
  {
   "cell_type": "code",
   "execution_count": 10,
   "metadata": {},
   "outputs": [],
   "source": [
    "#features.show()"
   ]
  },
  {
   "cell_type": "code",
   "execution_count": 11,
   "metadata": {},
   "outputs": [],
   "source": [
    "#features.select('min1','min2','min3','min4','min5','min6').show()\n",
    "\n",
    "#+--------+--------+--------+--------+--------+--------+\n",
    "#|    min1|    min2|    min3|    min4|    min5|    min6|\n",
    "#+--------+--------+--------+--------+--------+--------+\n",
    "#| 11853.6| 12052.4| 12052.4| 13704.8| 13704.8| 13704.8|\n",
    "#| 11853.6| 12052.4| 12052.4| 13704.8| 13704.8| 13704.8|\n",
    "#| 18196.0| 18196.0| 18196.0| 18196.0| 18196.0|   800.0|\n",
    "#|100282.7|100282.7|100282.7|100282.7|100282.7|100282.7|\n",
    "#| 10438.0| 10438.0| 10438.0| 10438.0| 10438.0| 10438.0|\n",
    "#| 10438.0| 10438.0| 10438.0| 10438.0| 10438.0| 10438.0|\n",
    "#| 17792.0| 17792.0| 17792.0| 17792.0| 17792.0| 17792.0|\n",
    "#| 17792.0| 17792.0| 17792.0| 17792.0| 17792.0| 17792.0|\n",
    "#|116809.2|116809.2|116809.2|116809.2|116809.2|116809.2|\n",
    "#|116809.2|116809.2|116809.2|116809.2|116809.2|116809.2|\n",
    "#| 27955.0| 27955.0| 27955.0|   800.0|    null|    null|\n",
    "#|  1000.0|  1000.0|  1000.0|  1000.0|  1000.0|  1000.0|\n",
    "#|106530.1|106530.1|106530.1|107258.7|107258.7|107258.7|\n",
    "#|106530.1|106530.1|106530.1|107258.7|107258.7|107258.7|\n",
    "#|  1100.0|  1100.0|  1100.0|  1100.0|  1100.0|  1100.0|\n",
    "#| -1033.8|  -634.4| 10872.5| 10872.5| 11200.0| 11200.0|\n",
    "#| 12000.0| 12000.0| 12000.0| 12000.0| 12000.0| 12000.0|\n",
    "#| 14858.0| 14858.0| 14858.0| 14858.0| 14858.0| 14858.0|\n",
    "#| 14858.0| 14858.0| 14858.0| 14858.0| 14858.0| 14858.0|\n",
    "#|  1000.0|  1000.0|  1000.0|  1000.0|  1000.0|  1000.0|\n",
    "#+--------+--------+--------+--------+--------+--------+"
   ]
  },
  {
   "attachments": {},
   "cell_type": "markdown",
   "metadata": {},
   "source": [
    "Em seguida, devemos identificar nossa variável de resposta (alvo), o status do empréstimo. Vamos verificar as contagens dos quatro status possíveis. Vamos agrupar os status A e C como status de empréstimo \"bons\" e B e D como status \"ruins\". No futuro, podemos tentar refazer a classificação usando apenas B (padrão) ou D (inadimplência) como \"ruim\" e ver como o modelo se compara. De qualquer forma, observando as contagens para cada um desses status, vemos que precisamos considerar a questão do balanceamento dos dados para a classificação."
   ]
  },
  {
   "cell_type": "code",
   "execution_count": 12,
   "metadata": {},
   "outputs": [],
   "source": [
    "#print(features.groupBy('status').count().show())\n",
    "#+------+-----+\n",
    "#|status|count|\n",
    "#+------+-----+\n",
    "#|     B|   31|\n",
    "#|     D|   45|\n",
    "#|     C|  493|\n",
    "#|     A|  258|\n",
    "#+------+-----+\n"
   ]
  },
  {
   "attachments": {},
   "cell_type": "markdown",
   "metadata": {},
   "source": [
    "Códigos de status do empréstimo:\n",
    "\n",
    "A = contrato finalizado, sem problemas\n",
    "\n",
    "B = contrato encerrado, empréstimo não pago\n",
    "\n",
    "C = contrato em execução, OK até agora\n",
    "\n",
    "D = contrato em execução, cliente em dívida"
   ]
  },
  {
   "attachments": {},
   "cell_type": "markdown",
   "metadata": {},
   "source": [
    "Agora configuramos as coisas para lidar com as variáveis categóricas. Primeiro, vamos converter essas variáveis categóricas binárias em 0s e 1s:"
   ]
  },
  {
   "cell_type": "code",
   "execution_count": 13,
   "metadata": {},
   "outputs": [],
   "source": [
    "# Convert response var `status` = {A,B,C,D} to `response` = {0,1} (AC good, BD bad):\n",
    "\n",
    "features = features.withColumn('response', f.when(f.col('status').isin(['A','C']), 1).otherwise(features.status)) # good\n",
    "features = features.withColumn('response', f.when(f.col('status').isin(['B','D']), 0).otherwise(features.response)) # bad\n",
    "\n",
    "# Convert gender={M,F} to gender={0,1}:\n",
    "features = (\n",
    "    features\n",
    "    .withColumn('gender',\n",
    "                 f.when(f.col('gender')=='F', 1).otherwise(0) \n",
    "                 )\n",
    ")\n",
    "\n",
    "#features.groupBy('gender').count().show()\n",
    "#+------+-----+\n",
    "#|gender|count|\n",
    "#+------+-----+\n",
    "#|     1|  417|\n",
    "#|     0|  410|\n",
    "#+------+-----+\n",
    "#\n"
   ]
  },
  {
   "cell_type": "code",
   "execution_count": 14,
   "metadata": {},
   "outputs": [],
   "source": [
    "\n",
    "# Existem recursos de cartão de crédito, mas nem todos os clientes têm cartões, portanto, esses recursos podem ser Nan,\n",
    "# que não é aceitável na modelagem. Vamos criar um recurso `has_card`={0,1}, solte o\n",
    "# data em que o cartão foi aberto, e abaixo ainda usaremos o recurso type_card de certa forma\n",
    "# que evita NaNs.\n",
    "\n",
    "features =  (\n",
    "    features\n",
    "    .withColumn('has_card', \n",
    "                f.when(f.col('date_card').isNotNull(),1).otherwise(0)\n",
    "                )\n",
    "    .drop('date_card')\n",
    "                )\n"
   ]
  },
  {
   "cell_type": "code",
   "execution_count": 15,
   "metadata": {},
   "outputs": [],
   "source": [
    "\n",
    "features = features.withColumn(\"idade\", f.floor(f.datediff(f.to_date(\"date_loan\", \"yyyy-MM-dd\"), f.to_date(\"date_birth\", \"yyyy-MM-dd\"))/365))\n",
    "#features.select('idade').summary().show()\n",
    "#+-------+------------------+\n",
    "#|summary|             idade|\n",
    "#+-------+------------------+\n",
    "#|  count|               827|\n",
    "#|   mean| 37.85368802902055|\n",
    "#| stddev|13.089711698987298|\n",
    "#|    min|                 7|\n",
    "#|    25%|                27|\n",
    "#|    50%|                37|\n",
    "#|    75%|                49|\n",
    "#|    max|                63|\n",
    "#+-------+------------------+"
   ]
  },
  {
   "cell_type": "code",
   "execution_count": 16,
   "metadata": {},
   "outputs": [],
   "source": [
    "\n",
    "features = features.withColumn(\"days_between\", f.datediff(f.to_date(\"date_loan\", \"yyyy-MM-dd\"), f.to_date(\"date_acct\", \"yyyy-MM-dd\")))\n",
    "#features.select('days_between').summary().show()\n",
    "#+-------+------------------+\n",
    "#|summary|      days_between|\n",
    "#+-------+------------------+\n",
    "#|  count|               827|\n",
    "#|   mean| 400.4570737605804|\n",
    "#| stddev|164.90081113645462|\n",
    "#|    min|               102|\n",
    "#|    25%|               267|\n",
    "#|    50%|               398|\n",
    "#|    75%|               533|\n",
    "#|    max|               697|\n",
    "#+-------+------------------+"
   ]
  },
  {
   "cell_type": "code",
   "execution_count": 17,
   "metadata": {},
   "outputs": [],
   "source": [
    "#print(features.count(), len(features.columns))\n",
    "# 827 41"
   ]
  },
  {
   "cell_type": "code",
   "execution_count": 18,
   "metadata": {},
   "outputs": [],
   "source": [
    "caminho = 'C:\\\\Users\\\\renat\\\\Documents\\\\00_MBA\\\\PROJETO_APLICADO\\\\ML-predict-loan-MBA-applied-project\\\\dados_features'"
   ]
  },
  {
   "cell_type": "code",
   "execution_count": 22,
   "metadata": {},
   "outputs": [
    {
     "name": "stdout",
     "output_type": "stream",
     "text": [
      "+----------+-------+---------+---------------+----------------+--------+----------+---------+-------+----------+------+--------+--------+------+----------+------------------+------+-------+---------+--------+-------+------------------+--------+-------+------------------+--------+-------+------------------+--------+-------+------------------+--------+-------+------------------+--------+-------+------------------+--------+--------+-----+------------+\n",
      "|account_id|disp_id|client_id|account_id_acct|district_id_bank|stmt_frq| date_acct|type_disp|loan_id| date_loan|amount|duration|payments|status|date_birth|district_id_client|gender|card_id|type_card|    min1|   max1|             mean1|    min2|   max2|             mean2|    min3|   max3|             mean3|    min4|   max4|             mean4|    min5|   max5|             mean5|    min6|   max6|             mean6|response|has_card|idade|days_between|\n",
      "+----------+-------+---------+---------------+----------------+--------+----------+---------+-------+----------+------+--------+--------+------+----------+------------------+------+-------+---------+--------+-------+------------------+--------+-------+------------------+--------+-------+------------------+--------+-------+------------------+--------+-------+------------------+--------+-------+------------------+--------+--------+-----+------------+\n",
      "|     10351|  12430|    12738|          10351|              23| monthly|1995-05-04|    owner|   7115|1997-03-04| 88704|      48|  1848.0|     C|1960-10-29|                23|     1|   null|     null| 11853.6| 9953.6|        18891.7448| 12052.4|  800.0|19204.563559322072| 12052.4|  800.0|19397.299099099135| 13704.8|  800.0| 19686.06285714289| 13704.8|  800.0| 19914.76734693881| 13704.8|  800.0| 19977.38913043481|       1|       0|   36|         670|\n",
      "|     10351|  12431|    12739|          10351|              23| monthly|1995-05-04|disponent|   7115|1997-03-04| 88704|      48|  1848.0|     C|1958-01-17|                23|     0|   null|     null| 11853.6| 9953.6|        18891.7448| 12052.4|  800.0|19204.563559322072| 12052.4|  800.0|19397.299099099135| 13704.8|  800.0| 19686.06285714289| 13704.8|  800.0| 19914.76734693881| 13704.8|  800.0| 19977.38913043481|       1|       0|   39|         670|\n",
      "|     10436|  12532|    12840|          10436|              60| monthly|1996-03-21|    owner|   7136|1996-09-28| 54396|      36|  1511.0|     C|1939-07-27|                60|     0|   null|     null| 18196.0| 8296.0|27385.443750000002| 18196.0| 8296.0|23910.691666666666| 18196.0| 8296.0|20539.822222222225| 18196.0| 8296.0|15875.900000000001| 18196.0| 8296.0|          11378.95|   800.0|  800.0|             800.0|       1|       0|   57|         191|\n",
      "|      4937|   5965|     5965|           4937|              12| monthly|1993-02-20|    owner|   6004|1994-07-23|143904|      24|  5996.0|     A|1951-04-10|                50|     0|   null|     null|100282.7|96774.9| 49212.63181818183|100282.7|96774.9| 47171.61311475411|100282.7|96774.9|47662.511504424794|100282.7|96774.9| 48624.17692307692|100282.7|96774.9| 49023.68659793816|100282.7|96774.9|49524.962499999994|       1|       0|   43|         518|\n",
      "|       675|    810|      810|            675|              58| monthly|1995-08-03|    owner|   5110|1997-04-01|102240|      60|  1704.0|     C|1945-09-24|                58|     1|    142|  classic| 10438.0|  900.0| 29672.60504201679| 10438.0|  900.0|29601.857657657707| 10438.0|  900.0|29692.923000000013| 10438.0|  900.0|29230.451086956506| 10438.0|  900.0|28706.836046511617| 10438.0|  900.0|28522.888607594945|       1|       1|   51|         607|\n",
      "|       675|    811|      811|            675|              58| monthly|1995-08-03|disponent|   5110|1997-04-01|102240|      60|  1704.0|     C|1940-05-28|                58|     0|   null|     null| 10438.0|  900.0| 29672.60504201679| 10438.0|  900.0|29601.857657657707| 10438.0|  900.0|29692.923000000013| 10438.0|  900.0|29230.451086956506| 10438.0|  900.0|28706.836046511617| 10438.0|  900.0|28522.888607594945|       1|       0|   56|         607|\n",
      "|      9030|  10813|    11121|           9030|              72| monthly|1995-01-21|    owner|   6818|1996-12-12|155616|      48|  3242.0|     C|1971-04-10|                72|     1|   null|     null| 17792.0|73261.2| 43766.96909090906| 17792.0|73261.2| 43560.12038216564| 17792.0|73261.2|43344.945637583885| 17792.0|73261.2| 43339.68450704221| 17792.0|73261.2| 43543.78222222216| 17792.0|73261.2|44716.108730158674|       1|       0|   25|         691|\n",
      "|      9030|  10814|    11122|           9030|              72| monthly|1995-01-21|disponent|   6818|1996-12-12|155616|      48|  3242.0|     C|1979-06-10|                72|     0|   null|     null| 17792.0|73261.2| 43766.96909090906| 17792.0|73261.2| 43560.12038216564| 17792.0|73261.2|43344.945637583885| 17792.0|73261.2| 43339.68450704221| 17792.0|73261.2| 43543.78222222216| 17792.0|73261.2|44716.108730158674|       1|       0|   17|         691|\n",
      "|      9583|  11486|    11794|           9583|              31|  weekly|1994-05-22|    owner|   6949|1995-12-12|104712|      24|  4363.0|     A|1970-10-07|                31|     1|   null|     null|116809.2|97532.7| 52700.12647058825|116809.2|91500.7| 49384.44021739131|116809.2|  910.8| 45273.56867469878|116809.2|  910.8| 43918.08266666665|116809.2|  910.8| 44226.59264705882|116809.2|  910.8| 41260.86034482757|       1|       0|   25|         569|\n",
      "|      9583|  11487|    11795|           9583|              31|  weekly|1994-05-22|disponent|   6949|1995-12-12|104712|      24|  4363.0|     A|1977-02-23|                31|     0|   null|     null|116809.2|97532.7| 52700.12647058825|116809.2|91500.7| 49384.44021739131|116809.2|  910.8| 45273.56867469878|116809.2|  910.8| 43918.08266666665|116809.2|  910.8| 44226.59264705882|116809.2|  910.8| 41260.86034482757|       1|       0|   18|         569|\n",
      "|      4894|   5911|     5911|           4894|              14| monthly|1993-06-20|    owner|   5997|1993-11-04|117024|      24|  4876.0|     A|1935-10-03|                14|     0|    814|  classic| 27955.0|  800.0|          39054.13| 27955.0|  800.0|32187.700000000004| 27955.0|  800.0|         21702.525|   800.0|  800.0|             800.0|    null|   null|              null|    null|   null|              null|       1|       1|   58|         137|\n",
      "|      8092|   9687|     9995|           8092|              54| monthly|1995-01-11|    owner|   6659|1996-02-20| 56100|      60|   935.0|     C|1958-07-07|                54|     0|   null|     null|  1000.0| 9899.1|20549.230158730166|  1000.0| 9899.1|21229.274545454544|  1000.0| 9847.3| 22331.20833333333|  1000.0|45346.1| 23742.93414634145|  1000.0|45346.1| 25002.09999999999|  1000.0|45346.1|26157.734482758613|       1|       0|   37|         405|\n",
      "|      1808|   2190|     2190|           1808|              28| monthly|1997-05-16|    owner|   5318|1998-09-30|385584|      48|  8033.0|     C|1974-10-22|                28|     0|   null|     null|106530.1|98638.1| 71744.03055555554|106530.1|98638.1| 71683.16875000004|106530.1|98638.1| 70528.38474576271|107258.7|97704.5| 66586.64693877556|107258.7|97704.5|64685.456097561015|107258.7|97704.5| 60002.15294117649|       1|       0|   23|         502|\n",
      "|      1808|   2191|     2191|           1808|              28| monthly|1997-05-16|disponent|   5318|1998-09-30|385584|      48|  8033.0|     C|1979-08-04|                28|     1|   null|     null|106530.1|98638.1| 71744.03055555554|106530.1|98638.1| 71683.16875000004|106530.1|98638.1| 70528.38474576271|107258.7|97704.5| 66586.64693877556|107258.7|97704.5|64685.456097561015|107258.7|97704.5| 60002.15294117649|       1|       0|   19|         502|\n",
      "|      2725|   3291|     3291|           2725|              52| monthly|1997-04-02|    owner|   5526|1998-11-08| 69624|      36|  1934.0|     C|1947-01-23|                52|     0|    517|  classic|  1100.0|74473.4|48848.771223021584|  1100.0|74473.4| 48680.17404580154|  1100.0|74473.4| 48577.12704918036|  1100.0|74473.4|48909.838938053144|  1100.0|74225.6| 48966.40769230772|  1100.0|74225.6| 48824.17916666669|       1|       1|   51|         585|\n",
      "|      4127|   4968|     4968|           4127|              50| monthly|1996-05-03|    owner|   5817|1997-08-15|100800|      24|  4200.0|     D|1938-05-26|                50|     0|   null|     null| -1033.8|92354.7| 28517.63666666666|  -634.4|92354.7|30629.674999999996| 10872.5|92354.7| 34390.41999999999| 10872.5|92354.7| 37366.49772727273| 11200.0|92354.7| 39841.53939393939| 11200.0|92354.7|42296.142307692295|       0|       0|   59|         469|\n",
      "|      5181|   6257|     6257|           5181|              75| monthly|1996-02-03|    owner|   6055|1997-04-28|399120|      60|  6652.0|     C|1942-08-20|                75|     1|   null|     null| 12000.0|85656.2| 43888.80178571428| 12000.0|85656.2|45365.217307692306| 12000.0|85656.2| 47899.04468085107| 12000.0|85656.2|49629.499999999985| 12000.0|85656.2| 51363.49666666664| 12000.0|85656.2| 48992.67142857142|       1|       0|   54|         450|\n",
      "|       666|    798|      798|            666|              27| monthly|1996-03-15|    owner|   5103|1997-11-28| 12540|      12|  1045.0|     A|1940-02-12|                27|     1|    140|  classic| 14858.0|57779.4| 41539.73636363639| 14858.0|57779.4|  41337.9007352941| 14858.0|57779.4|40905.268503937026| 14858.0|57779.4| 40216.51525423725| 14858.0|57779.4| 39706.83571428572| 14858.0|57779.4| 38930.43495145629|       1|       1|   57|         623|\n",
      "|       666|    799|      799|            666|              27| monthly|1996-03-15|disponent|   5103|1997-11-28| 12540|      12|  1045.0|     A|1936-02-19|                27|     0|   null|     null| 14858.0|57779.4| 41539.73636363639| 14858.0|57779.4|  41337.9007352941| 14858.0|57779.4|40905.268503937026| 14858.0|57779.4| 40216.51525423725| 14858.0|57779.4| 39706.83571428572| 14858.0|57779.4| 38930.43495145629|       1|       0|   61|         623|\n",
      "|      7418|   8888|     9196|           7418|              21| monthly|1995-04-07|    owner|   6501|1996-04-29| 30276|      12|  2523.0|     B|1939-04-23|                21|     1|   null|     null|  1000.0| 8322.5| 31481.05952380953|  1000.0| 8322.5|31864.918421052636|  1000.0| 8322.5| 32901.12058823532|  1000.0| 8322.5|  33364.7551724138|  1000.0| 8322.5| 33791.80754716982|  1000.0| 8322.5| 34767.38666666667|       0|       0|   57|         388|\n",
      "+----------+-------+---------+---------------+----------------+--------+----------+---------+-------+----------+------+--------+--------+------+----------+------------------+------+-------+---------+--------+-------+------------------+--------+-------+------------------+--------+-------+------------------+--------+-------+------------------+--------+-------+------------------+--------+-------+------------------+--------+--------+-----+------------+\n",
      "only showing top 20 rows\n",
      "\n"
     ]
    }
   ],
   "source": [
    "#features.show()"
   ]
  },
  {
   "cell_type": "code",
   "execution_count": 28,
   "metadata": {},
   "outputs": [],
   "source": [
    "features.coalesce(1).write.format(\"csv\").option(\"header\", \"true\").mode(\"overwrite\").save(f\"{caminho}\")  "
   ]
  },
  {
   "cell_type": "code",
   "execution_count": null,
   "metadata": {},
   "outputs": [],
   "source": []
  }
 ],
 "metadata": {
  "kernelspec": {
   "display_name": "base",
   "language": "python",
   "name": "python3"
  },
  "language_info": {
   "codemirror_mode": {
    "name": "ipython",
    "version": 3
   },
   "file_extension": ".py",
   "mimetype": "text/x-python",
   "name": "python",
   "nbconvert_exporter": "python",
   "pygments_lexer": "ipython3",
   "version": "3.8.8"
  },
  "orig_nbformat": 4
 },
 "nbformat": 4,
 "nbformat_minor": 2
}
