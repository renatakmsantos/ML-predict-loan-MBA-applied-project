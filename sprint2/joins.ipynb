{
 "cells": [
  {
   "cell_type": "code",
   "execution_count": 1,
   "metadata": {},
   "outputs": [],
   "source": [
    "## usar python 3.8.8\n",
    "import findspark\n",
    "findspark.init()"
   ]
  },
  {
   "cell_type": "code",
   "execution_count": 2,
   "metadata": {},
   "outputs": [],
   "source": [
    "# Importando SparkSession para criar uma sessão do Spark\n",
    "from pyspark.sql import SparkSession\n",
    "\n",
    "# Importando funções e tipos de dados SparkSQL\n",
    "from pyspark.sql import functions as f\n",
    "from pyspark.sql.types import *\n",
    "\n",
    "# Importando módulos Spark MLlib\n",
    "from pyspark.ml import Pipeline\n",
    "from pyspark.ml.feature import VectorAssembler, StringIndexer, OneHotEncoder\n",
    "from pyspark.ml.regression import LinearRegression\n",
    "from pyspark.ml.evaluation import RegressionEvaluator\n",
    "\n",
    "# Importando SparkContext e SparkConf\n",
    "from pyspark import SparkContext, SparkConf\n"
   ]
  },
  {
   "cell_type": "code",
   "execution_count": 3,
   "metadata": {},
   "outputs": [
    {
     "data": {
      "text/plain": [
       "'3.0.0'"
      ]
     },
     "execution_count": 3,
     "metadata": {},
     "output_type": "execute_result"
    }
   ],
   "source": [
    "\n",
    "# Criando uma nova sessão do Spark\n",
    "\n",
    "# Spark entry point\n",
    "spark = SparkSession \\\n",
    "    .builder \\\n",
    "    .appName(\"JOINS-pkdd99-xpeMBA\") \\\n",
    "    .getOrCreate()\n",
    "\n",
    "spark.version\n"
   ]
  },
  {
   "attachments": {},
   "cell_type": "markdown",
   "metadata": {},
   "source": [
    "Ver o diagrama entidade relacional em: ''<''link do git''>''"
   ]
  },
  {
   "cell_type": "code",
   "execution_count": 11,
   "metadata": {},
   "outputs": [],
   "source": [
    "\n",
    "def read_df_csv(tabela=str):\n",
    "    \"\"\"\n",
    "    Função para as bases de dados onde retorna no print o 'shape', um breve 'show' e o Scheema das variáveis.\n",
    "    :param entidade_name: string que referencie o nome da tabela que complete o caminho './dados_originais/{tabela}.csv'. \n",
    "    tabela pode ser => account, card, client, disp, district, loan, order \n",
    "    :return: DataFrame em pyspark\n",
    "    \"\"\"\n",
    "    path =\"C:\\\\Users\\\\renat\\\\Documents\\\\00_MBA\\\\PROJETO_APLICADO\\\\ML-predict-loan-MBA-applied-project\\\\dados_tratados\"\n",
    "    df = spark.read.csv(path = f'{path}/{tabela}.csv', header='True',inferSchema='False', sep=';')\n",
    "    print('\\n','A base de dados possui:',df.count(), 'linhas', 'e', len(df.columns), 'colunas', '\\n')\n",
    "    print(df.show(5))\n",
    "    print(df.printSchema())\n",
    "    return(df)"
   ]
  },
  {
   "cell_type": "code",
   "execution_count": 12,
   "metadata": {},
   "outputs": [
    {
     "name": "stdout",
     "output_type": "stream",
     "text": [
      "\n",
      " A base de dados possui: 4500 linhas e 4 colunas \n",
      "\n",
      "+----------+-----------+--------+----------+\n",
      "|account_id|district_id|stmt_frq|      date|\n",
      "+----------+-----------+--------+----------+\n",
      "|       576|         55| monthly|1993-01-01|\n",
      "|      3818|         74| monthly|1993-01-01|\n",
      "|       704|         55| monthly|1993-01-01|\n",
      "|      2378|         16| monthly|1993-01-01|\n",
      "|      2632|         24| monthly|1993-01-02|\n",
      "+----------+-----------+--------+----------+\n",
      "only showing top 5 rows\n",
      "\n",
      "None\n",
      "root\n",
      " |-- account_id: string (nullable = true)\n",
      " |-- district_id: string (nullable = true)\n",
      " |-- stmt_frq: string (nullable = true)\n",
      " |-- date: string (nullable = true)\n",
      "\n",
      "None\n"
     ]
    }
   ],
   "source": [
    "account_df = read_df_csv('account')"
   ]
  },
  {
   "cell_type": "code",
   "execution_count": 13,
   "metadata": {},
   "outputs": [
    {
     "name": "stdout",
     "output_type": "stream",
     "text": [
      "\n",
      " A base de dados possui: 892 linhas e 4 colunas \n",
      "\n",
      "+-------+-------+-------+----------+\n",
      "|card_id|disp_id|   type|      date|\n",
      "+-------+-------+-------+----------+\n",
      "|   1005|   9285|classic|1993-11-07|\n",
      "|    104|    588|classic|1994-01-19|\n",
      "|    747|   4915|classic|1994-02-05|\n",
      "|     70|    439|classic|1994-02-08|\n",
      "|    577|   3687|classic|1994-02-15|\n",
      "+-------+-------+-------+----------+\n",
      "only showing top 5 rows\n",
      "\n",
      "None\n",
      "root\n",
      " |-- card_id: string (nullable = true)\n",
      " |-- disp_id: string (nullable = true)\n",
      " |-- type: string (nullable = true)\n",
      " |-- date: string (nullable = true)\n",
      "\n",
      "None\n"
     ]
    }
   ],
   "source": [
    "card_df = read_df_csv('card')"
   ]
  },
  {
   "cell_type": "code",
   "execution_count": 14,
   "metadata": {},
   "outputs": [
    {
     "name": "stdout",
     "output_type": "stream",
     "text": [
      "\n",
      " A base de dados possui: 5369 linhas e 4 colunas \n",
      "\n",
      "+---------+----------+-----------+------+\n",
      "|client_id|date_birth|district_id|gender|\n",
      "+---------+----------+-----------+------+\n",
      "|        1|1970-12-13|         18|     F|\n",
      "|        2|1945-02-04|          1|     M|\n",
      "|        3|1940-10-09|          1|     F|\n",
      "|        4|1956-12-01|          5|     M|\n",
      "|        5|1960-07-03|          5|     F|\n",
      "+---------+----------+-----------+------+\n",
      "only showing top 5 rows\n",
      "\n",
      "None\n",
      "root\n",
      " |-- client_id: string (nullable = true)\n",
      " |-- date_birth: string (nullable = true)\n",
      " |-- district_id: string (nullable = true)\n",
      " |-- gender: string (nullable = true)\n",
      "\n",
      "None\n"
     ]
    }
   ],
   "source": [
    "client_df = read_df_csv('client')"
   ]
  },
  {
   "cell_type": "code",
   "execution_count": 18,
   "metadata": {},
   "outputs": [
    {
     "name": "stdout",
     "output_type": "stream",
     "text": [
      "\n",
      " A base de dados possui: 6471 linhas e 6 colunas \n",
      "\n",
      "+--------+----------+-------+----------+------+---------+\n",
      "|order_id|account_id|bank_to|account_to|amount| category|\n",
      "+--------+----------+-------+----------+------+---------+\n",
      "|   29401|         1|     YZ|  87144583|2452.0|household|\n",
      "|   29402|         2|     ST|  89597016|3372.7|loan_payt|\n",
      "|   29403|         2|     QR|  13943797|7266.0|household|\n",
      "|   29404|         3|     WX|  83084338|1135.0|household|\n",
      "|   29405|         3|     CD|  24485939| 327.0|         |\n",
      "+--------+----------+-------+----------+------+---------+\n",
      "only showing top 5 rows\n",
      "\n",
      "None\n",
      "root\n",
      " |-- order_id: string (nullable = true)\n",
      " |-- account_id: string (nullable = true)\n",
      " |-- bank_to: string (nullable = true)\n",
      " |-- account_to: string (nullable = true)\n",
      " |-- amount: string (nullable = true)\n",
      " |-- category: string (nullable = true)\n",
      "\n",
      "None\n"
     ]
    }
   ],
   "source": [
    "order_df = read_df_csv('order') "
   ]
  },
  {
   "cell_type": "code",
   "execution_count": 17,
   "metadata": {},
   "outputs": [
    {
     "name": "stdout",
     "output_type": "stream",
     "text": [
      "\n",
      " A base de dados possui: 682 linhas e 7 colunas \n",
      "\n",
      "+-------+----------+----------+------+--------+--------+------+\n",
      "|loan_id|account_id|      date|amount|duration|payments|status|\n",
      "+-------+----------+----------+------+--------+--------+------+\n",
      "|   5314|      1787|1993-07-05| 96396|      12|  8033.0|     B|\n",
      "|   5316|      1801|1993-07-11|165960|      36|  4610.0|     A|\n",
      "|   6863|      9188|1993-07-28|127080|      60|  2118.0|     A|\n",
      "|   5325|      1843|1993-08-03|105804|      36|  2939.0|     A|\n",
      "|   7240|     11013|1993-09-06|274740|      60|  4579.0|     A|\n",
      "+-------+----------+----------+------+--------+--------+------+\n",
      "only showing top 5 rows\n",
      "\n",
      "None\n",
      "root\n",
      " |-- loan_id: string (nullable = true)\n",
      " |-- account_id: string (nullable = true)\n",
      " |-- date: string (nullable = true)\n",
      " |-- amount: string (nullable = true)\n",
      " |-- duration: string (nullable = true)\n",
      " |-- payments: string (nullable = true)\n",
      " |-- status: string (nullable = true)\n",
      "\n",
      "None\n"
     ]
    }
   ],
   "source": [
    "loan_df = read_df_csv('loan')"
   ]
  },
  {
   "cell_type": "code",
   "execution_count": 16,
   "metadata": {},
   "outputs": [
    {
     "name": "stdout",
     "output_type": "stream",
     "text": [
      "\n",
      " A base de dados possui: 77 linhas e 16 colunas \n",
      "\n",
      "+-----------+-----------+---------------+-------+------+-----+------+------+----+-----+------+------+------+-------+------+------+\n",
      "|district_id|      dname|         region|    pop|nmu500|nmu2k|nmu10k|nmuinf|ncit|rurba|avgsal|urat95|urat96|ent_ppt|ncri95|ncri96|\n",
      "+-----------+-----------+---------------+-------+------+-----+------+------+----+-----+------+------+------+-------+------+------+\n",
      "|          1|Hl.m. Praha|         Prague|1204953|     0|    0|     0|     1|   1|100.0| 12541|  0.29|  0.43|    167| 85677| 99107|\n",
      "|          2|    Benesov|central Bohemia|  88884|    80|   26|     6|     2|   5| 46.7|  8507|  1.67|  1.85|    132|  2159|  2674|\n",
      "|          3|     Beroun|central Bohemia|  75232|    55|   26|     4|     1|   5| 41.7|  8980|  1.95|  2.21|    111|  2824|  2813|\n",
      "|          4|     Kladno|central Bohemia| 149893|    63|   29|     6|     2|   6| 67.4|  9753|  4.64|  5.05|    109|  5244|  5892|\n",
      "|          5|      Kolin|central Bohemia|  95616|    65|   30|     4|     1|   6| 51.4|  9307|  3.85|  4.43|    118|  2616|  3040|\n",
      "+-----------+-----------+---------------+-------+------+-----+------+------+----+-----+------+------+------+-------+------+------+\n",
      "only showing top 5 rows\n",
      "\n",
      "None\n",
      "root\n",
      " |-- district_id: string (nullable = true)\n",
      " |-- dname: string (nullable = true)\n",
      " |-- region: string (nullable = true)\n",
      " |-- pop: string (nullable = true)\n",
      " |-- nmu500: string (nullable = true)\n",
      " |-- nmu2k: string (nullable = true)\n",
      " |-- nmu10k: string (nullable = true)\n",
      " |-- nmuinf: string (nullable = true)\n",
      " |-- ncit: string (nullable = true)\n",
      " |-- rurba: string (nullable = true)\n",
      " |-- avgsal: string (nullable = true)\n",
      " |-- urat95: string (nullable = true)\n",
      " |-- urat96: string (nullable = true)\n",
      " |-- ent_ppt: string (nullable = true)\n",
      " |-- ncri95: string (nullable = true)\n",
      " |-- ncri96: string (nullable = true)\n",
      "\n",
      "None\n"
     ]
    }
   ],
   "source": [
    "district_df = read_df_csv('district')"
   ]
  },
  {
   "cell_type": "code",
   "execution_count": 15,
   "metadata": {},
   "outputs": [
    {
     "name": "stdout",
     "output_type": "stream",
     "text": [
      "\n",
      " A base de dados possui: 5369 linhas e 4 colunas \n",
      "\n",
      "+-------+---------+----------+---------+\n",
      "|disp_id|client_id|account_id|     type|\n",
      "+-------+---------+----------+---------+\n",
      "|      1|        1|         1|    owner|\n",
      "|      2|        2|         2|    owner|\n",
      "|      3|        3|         2|disponent|\n",
      "|      4|        4|         3|    owner|\n",
      "|      5|        5|         3|disponent|\n",
      "+-------+---------+----------+---------+\n",
      "only showing top 5 rows\n",
      "\n",
      "None\n",
      "root\n",
      " |-- disp_id: string (nullable = true)\n",
      " |-- client_id: string (nullable = true)\n",
      " |-- account_id: string (nullable = true)\n",
      " |-- type: string (nullable = true)\n",
      "\n",
      "None\n"
     ]
    }
   ],
   "source": [
    "disp_df = read_df_csv('disp')"
   ]
  },
  {
   "cell_type": "code",
   "execution_count": null,
   "metadata": {},
   "outputs": [],
   "source": []
  },
  {
   "attachments": {},
   "cell_type": "markdown",
   "metadata": {},
   "source": [
    "## Join das tabelas "
   ]
  },
  {
   "cell_type": "code",
   "execution_count": 35,
   "metadata": {},
   "outputs": [
    {
     "data": {
      "text/plain": [
       "5369"
      ]
     },
     "execution_count": 35,
     "metadata": {},
     "output_type": "execute_result"
    }
   ],
   "source": [
    "features = account_df.join(disp_df, on='account_id', how='outer').withColumnRenamed('account_id', 'account_id_acct')\n",
    "features.count()"
   ]
  },
  {
   "cell_type": "code",
   "execution_count": 36,
   "metadata": {},
   "outputs": [
    {
     "data": {
      "text/plain": [
       "['account_id_acct',\n",
       " 'district_id',\n",
       " 'stmt_frq',\n",
       " 'date',\n",
       " 'disp_id',\n",
       " 'client_id',\n",
       " 'type']"
      ]
     },
     "execution_count": 36,
     "metadata": {},
     "output_type": "execute_result"
    }
   ],
   "source": [
    "features.columns"
   ]
  },
  {
   "cell_type": "code",
   "execution_count": 37,
   "metadata": {},
   "outputs": [
    {
     "data": {
      "text/plain": [
       "5369"
      ]
     },
     "execution_count": 37,
     "metadata": {},
     "output_type": "execute_result"
    }
   ],
   "source": [
    "cond = (loan_df.account_id == features.account_id_acct)\n",
    "features = (\n",
    "    features\n",
    "    .join(loan_df, on = cond, how='left')\n",
    ")\n",
    "\n",
    "features.count()"
   ]
  },
  {
   "cell_type": "code",
   "execution_count": 38,
   "metadata": {},
   "outputs": [
    {
     "data": {
      "text/plain": [
       "['account_id_acct',\n",
       " 'district_id',\n",
       " 'stmt_frq',\n",
       " 'date',\n",
       " 'disp_id',\n",
       " 'client_id',\n",
       " 'type',\n",
       " 'loan_id',\n",
       " 'account_id',\n",
       " 'date',\n",
       " 'amount',\n",
       " 'duration',\n",
       " 'payments',\n",
       " 'status']"
      ]
     },
     "execution_count": 38,
     "metadata": {},
     "output_type": "execute_result"
    }
   ],
   "source": [
    "features.columns"
   ]
  },
  {
   "cell_type": "code",
   "execution_count": null,
   "metadata": {},
   "outputs": [],
   "source": [
    "# Do SQL-style merge of data from different dataframes to create features dataframe for classification\n",
    "features = pd.merge(account,disp,on='account_id',how='outer')\n",
    "features = pd.merge(features,loan,on='account_id',how='left',suffixes=('_acct','_loan')) # sufficies for date\n",
    "features = pd.merge(features,client,on='client_id',how='outer',suffixes=('_bank','_client')) # suffices for district_id\n",
    "features = pd.merge(features,card,on='disp_id',how='outer',suffixes=('_disp','_card')) # suffices for type\n",
    "features.rename(columns = {'date':'date_card'}, inplace=True) # for clarity\n",
    "print(len(features),'total feature records, ie one for each client')  # should be 5369\n",
    "features = features[pd.notnull(features['loan_id'])]\n",
    "print(len(features),'feature records with a loan; some accts repeated due to multiple clients on same acct')  # should be 827\n",
    "print(len(features['account_id'].unique()),'feature records with a loan and unique account_id')  # should be 682"
   ]
  }
 ],
 "metadata": {
  "kernelspec": {
   "display_name": "base",
   "language": "python",
   "name": "python3"
  },
  "language_info": {
   "codemirror_mode": {
    "name": "ipython",
    "version": 3
   },
   "file_extension": ".py",
   "mimetype": "text/x-python",
   "name": "python",
   "nbconvert_exporter": "python",
   "pygments_lexer": "ipython3",
   "version": "3.8.8"
  },
  "orig_nbformat": 4
 },
 "nbformat": 4,
 "nbformat_minor": 2
}
