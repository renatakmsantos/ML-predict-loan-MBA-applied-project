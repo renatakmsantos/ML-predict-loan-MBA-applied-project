{
 "cells": [
  {
   "cell_type": "code",
   "execution_count": 3,
   "metadata": {},
   "outputs": [],
   "source": [
    "## usar python 3.8.8\n",
    "import findspark\n",
    "findspark.init()"
   ]
  },
  {
   "cell_type": "code",
   "execution_count": 4,
   "metadata": {},
   "outputs": [],
   "source": [
    "# Importando SparkSession para criar uma sessão do Spark\n",
    "from pyspark.sql import SparkSession\n",
    "\n",
    "# Importando funções e tipos de dados SparkSQL\n",
    "from pyspark.sql import functions as f\n",
    "from pyspark.sql.types import *\n",
    "\n",
    "# Importando módulos Spark MLlib\n",
    "from pyspark.ml import Pipeline\n",
    "from pyspark.ml.feature import VectorAssembler, StringIndexer, OneHotEncoder\n",
    "from pyspark.ml.regression import LinearRegression\n",
    "from pyspark.ml.evaluation import RegressionEvaluator\n",
    "\n",
    "# Importando SparkContext e SparkConf\n",
    "from pyspark import SparkContext, SparkConf\n"
   ]
  },
  {
   "cell_type": "code",
   "execution_count": 5,
   "metadata": {},
   "outputs": [
    {
     "data": {
      "text/plain": [
       "'3.0.0'"
      ]
     },
     "execution_count": 5,
     "metadata": {},
     "output_type": "execute_result"
    }
   ],
   "source": [
    "\n",
    "# Criando uma nova sessão do Spark\n",
    "\n",
    "# Spark entry point\n",
    "spark = SparkSession \\\n",
    "    .builder \\\n",
    "    .appName(\"JOINS-pkdd99-xpeMBA\") \\\n",
    "    .getOrCreate()\n",
    "\n",
    "spark.version\n"
   ]
  },
  {
   "attachments": {},
   "cell_type": "markdown",
   "metadata": {},
   "source": [
    "Ver o diagrama entidade relacional em: ''<''link do git''>''"
   ]
  },
  {
   "cell_type": "code",
   "execution_count": 6,
   "metadata": {},
   "outputs": [],
   "source": [
    "\n",
    "def read_df_csv(tabela=str):\n",
    "    \"\"\"\n",
    "    Função para as bases de dados onde retorna no print o 'shape', um breve 'show' e o Scheema das variáveis.\n",
    "    :param entidade_name: string que referencie o nome da tabela que complete o caminho './dados_originais/{tabela}.csv'. \n",
    "    tabela pode ser => account, card, client, disp, district, loan, order \n",
    "    :return: DataFrame em pyspark\n",
    "    \"\"\"\n",
    "    path =\"C:\\\\Users\\\\renat\\\\Documents\\\\00_MBA\\\\PROJETO_APLICADO\\\\ML-predict-loan-MBA-applied-project\\\\dados_tratados\"\n",
    "    df = spark.read.csv(path = f'{path}/{tabela}.csv', header='True',inferSchema='False', sep=';')\n",
    "    print('\\n','A base de dados possui:',df.count(), 'linhas', 'e', len(df.columns), 'colunas', '\\n')\n",
    "    print(df.show(5))\n",
    "    print(df.printSchema())\n",
    "    return(df)"
   ]
  },
  {
   "cell_type": "code",
   "execution_count": 7,
   "metadata": {},
   "outputs": [
    {
     "name": "stdout",
     "output_type": "stream",
     "text": [
      "\n",
      " A base de dados possui: 4500 linhas e 4 colunas \n",
      "\n",
      "+----------+-----------+--------+----------+\n",
      "|account_id|district_id|stmt_frq|      date|\n",
      "+----------+-----------+--------+----------+\n",
      "|       576|         55| monthly|1993-01-01|\n",
      "|      3818|         74| monthly|1993-01-01|\n",
      "|       704|         55| monthly|1993-01-01|\n",
      "|      2378|         16| monthly|1993-01-01|\n",
      "|      2632|         24| monthly|1993-01-02|\n",
      "+----------+-----------+--------+----------+\n",
      "only showing top 5 rows\n",
      "\n",
      "None\n",
      "root\n",
      " |-- account_id: string (nullable = true)\n",
      " |-- district_id: string (nullable = true)\n",
      " |-- stmt_frq: string (nullable = true)\n",
      " |-- date: string (nullable = true)\n",
      "\n",
      "None\n"
     ]
    }
   ],
   "source": [
    "account_df = read_df_csv('account')"
   ]
  },
  {
   "cell_type": "code",
   "execution_count": 8,
   "metadata": {},
   "outputs": [
    {
     "name": "stdout",
     "output_type": "stream",
     "text": [
      "\n",
      " A base de dados possui: 892 linhas e 4 colunas \n",
      "\n",
      "+-------+-------+-------+----------+\n",
      "|card_id|disp_id|   type|      date|\n",
      "+-------+-------+-------+----------+\n",
      "|   1005|   9285|classic|1993-11-07|\n",
      "|    104|    588|classic|1994-01-19|\n",
      "|    747|   4915|classic|1994-02-05|\n",
      "|     70|    439|classic|1994-02-08|\n",
      "|    577|   3687|classic|1994-02-15|\n",
      "+-------+-------+-------+----------+\n",
      "only showing top 5 rows\n",
      "\n",
      "None\n",
      "root\n",
      " |-- card_id: string (nullable = true)\n",
      " |-- disp_id: string (nullable = true)\n",
      " |-- type: string (nullable = true)\n",
      " |-- date: string (nullable = true)\n",
      "\n",
      "None\n"
     ]
    }
   ],
   "source": [
    "card_df = read_df_csv('card')"
   ]
  },
  {
   "cell_type": "code",
   "execution_count": 9,
   "metadata": {},
   "outputs": [
    {
     "name": "stdout",
     "output_type": "stream",
     "text": [
      "\n",
      " A base de dados possui: 5369 linhas e 4 colunas \n",
      "\n",
      "+---------+----------+-----------+------+\n",
      "|client_id|date_birth|district_id|gender|\n",
      "+---------+----------+-----------+------+\n",
      "|        1|1970-12-13|         18|     F|\n",
      "|        2|1945-02-04|          1|     M|\n",
      "|        3|1940-10-09|          1|     F|\n",
      "|        4|1956-12-01|          5|     M|\n",
      "|        5|1960-07-03|          5|     F|\n",
      "+---------+----------+-----------+------+\n",
      "only showing top 5 rows\n",
      "\n",
      "None\n",
      "root\n",
      " |-- client_id: string (nullable = true)\n",
      " |-- date_birth: string (nullable = true)\n",
      " |-- district_id: string (nullable = true)\n",
      " |-- gender: string (nullable = true)\n",
      "\n",
      "None\n"
     ]
    }
   ],
   "source": [
    "client_df = read_df_csv('client')"
   ]
  },
  {
   "cell_type": "code",
   "execution_count": 10,
   "metadata": {},
   "outputs": [
    {
     "name": "stdout",
     "output_type": "stream",
     "text": [
      "\n",
      " A base de dados possui: 6471 linhas e 6 colunas \n",
      "\n",
      "+--------+----------+-------+----------+------+---------+\n",
      "|order_id|account_id|bank_to|account_to|amount| category|\n",
      "+--------+----------+-------+----------+------+---------+\n",
      "|   29401|         1|     YZ|  87144583|2452.0|household|\n",
      "|   29402|         2|     ST|  89597016|3372.7|loan_payt|\n",
      "|   29403|         2|     QR|  13943797|7266.0|household|\n",
      "|   29404|         3|     WX|  83084338|1135.0|household|\n",
      "|   29405|         3|     CD|  24485939| 327.0|         |\n",
      "+--------+----------+-------+----------+------+---------+\n",
      "only showing top 5 rows\n",
      "\n",
      "None\n",
      "root\n",
      " |-- order_id: string (nullable = true)\n",
      " |-- account_id: string (nullable = true)\n",
      " |-- bank_to: string (nullable = true)\n",
      " |-- account_to: string (nullable = true)\n",
      " |-- amount: string (nullable = true)\n",
      " |-- category: string (nullable = true)\n",
      "\n",
      "None\n"
     ]
    }
   ],
   "source": [
    "order_df = read_df_csv('order') "
   ]
  },
  {
   "cell_type": "code",
   "execution_count": 11,
   "metadata": {},
   "outputs": [
    {
     "name": "stdout",
     "output_type": "stream",
     "text": [
      "\n",
      " A base de dados possui: 682 linhas e 7 colunas \n",
      "\n",
      "+-------+----------+----------+------+--------+--------+------+\n",
      "|loan_id|account_id|      date|amount|duration|payments|status|\n",
      "+-------+----------+----------+------+--------+--------+------+\n",
      "|   5314|      1787|1993-07-05| 96396|      12|  8033.0|     B|\n",
      "|   5316|      1801|1993-07-11|165960|      36|  4610.0|     A|\n",
      "|   6863|      9188|1993-07-28|127080|      60|  2118.0|     A|\n",
      "|   5325|      1843|1993-08-03|105804|      36|  2939.0|     A|\n",
      "|   7240|     11013|1993-09-06|274740|      60|  4579.0|     A|\n",
      "+-------+----------+----------+------+--------+--------+------+\n",
      "only showing top 5 rows\n",
      "\n",
      "None\n",
      "root\n",
      " |-- loan_id: string (nullable = true)\n",
      " |-- account_id: string (nullable = true)\n",
      " |-- date: string (nullable = true)\n",
      " |-- amount: string (nullable = true)\n",
      " |-- duration: string (nullable = true)\n",
      " |-- payments: string (nullable = true)\n",
      " |-- status: string (nullable = true)\n",
      "\n",
      "None\n"
     ]
    }
   ],
   "source": [
    "loan_df = read_df_csv('loan')"
   ]
  },
  {
   "cell_type": "code",
   "execution_count": 12,
   "metadata": {},
   "outputs": [
    {
     "name": "stdout",
     "output_type": "stream",
     "text": [
      "\n",
      " A base de dados possui: 77 linhas e 16 colunas \n",
      "\n",
      "+-----------+-----------+---------------+-------+------+-----+------+------+----+-----+------+------+------+-------+------+------+\n",
      "|district_id|      dname|         region|    pop|nmu500|nmu2k|nmu10k|nmuinf|ncit|rurba|avgsal|urat95|urat96|ent_ppt|ncri95|ncri96|\n",
      "+-----------+-----------+---------------+-------+------+-----+------+------+----+-----+------+------+------+-------+------+------+\n",
      "|          1|Hl.m. Praha|         Prague|1204953|     0|    0|     0|     1|   1|100.0| 12541|  0.29|  0.43|    167| 85677| 99107|\n",
      "|          2|    Benesov|central Bohemia|  88884|    80|   26|     6|     2|   5| 46.7|  8507|  1.67|  1.85|    132|  2159|  2674|\n",
      "|          3|     Beroun|central Bohemia|  75232|    55|   26|     4|     1|   5| 41.7|  8980|  1.95|  2.21|    111|  2824|  2813|\n",
      "|          4|     Kladno|central Bohemia| 149893|    63|   29|     6|     2|   6| 67.4|  9753|  4.64|  5.05|    109|  5244|  5892|\n",
      "|          5|      Kolin|central Bohemia|  95616|    65|   30|     4|     1|   6| 51.4|  9307|  3.85|  4.43|    118|  2616|  3040|\n",
      "+-----------+-----------+---------------+-------+------+-----+------+------+----+-----+------+------+------+-------+------+------+\n",
      "only showing top 5 rows\n",
      "\n",
      "None\n",
      "root\n",
      " |-- district_id: string (nullable = true)\n",
      " |-- dname: string (nullable = true)\n",
      " |-- region: string (nullable = true)\n",
      " |-- pop: string (nullable = true)\n",
      " |-- nmu500: string (nullable = true)\n",
      " |-- nmu2k: string (nullable = true)\n",
      " |-- nmu10k: string (nullable = true)\n",
      " |-- nmuinf: string (nullable = true)\n",
      " |-- ncit: string (nullable = true)\n",
      " |-- rurba: string (nullable = true)\n",
      " |-- avgsal: string (nullable = true)\n",
      " |-- urat95: string (nullable = true)\n",
      " |-- urat96: string (nullable = true)\n",
      " |-- ent_ppt: string (nullable = true)\n",
      " |-- ncri95: string (nullable = true)\n",
      " |-- ncri96: string (nullable = true)\n",
      "\n",
      "None\n"
     ]
    }
   ],
   "source": [
    "district_df = read_df_csv('district')"
   ]
  },
  {
   "cell_type": "code",
   "execution_count": 13,
   "metadata": {},
   "outputs": [
    {
     "name": "stdout",
     "output_type": "stream",
     "text": [
      "\n",
      " A base de dados possui: 5369 linhas e 4 colunas \n",
      "\n",
      "+-------+---------+----------+---------+\n",
      "|disp_id|client_id|account_id|     type|\n",
      "+-------+---------+----------+---------+\n",
      "|      1|        1|         1|    owner|\n",
      "|      2|        2|         2|    owner|\n",
      "|      3|        3|         2|disponent|\n",
      "|      4|        4|         3|    owner|\n",
      "|      5|        5|         3|disponent|\n",
      "+-------+---------+----------+---------+\n",
      "only showing top 5 rows\n",
      "\n",
      "None\n",
      "root\n",
      " |-- disp_id: string (nullable = true)\n",
      " |-- client_id: string (nullable = true)\n",
      " |-- account_id: string (nullable = true)\n",
      " |-- type: string (nullable = true)\n",
      "\n",
      "None\n"
     ]
    }
   ],
   "source": [
    "disp_df = read_df_csv('disp')"
   ]
  },
  {
   "attachments": {},
   "cell_type": "markdown",
   "metadata": {},
   "source": [
    "## Join das tabelas "
   ]
  },
  {
   "cell_type": "code",
   "execution_count": 14,
   "metadata": {},
   "outputs": [
    {
     "data": {
      "text/plain": [
       "5369"
      ]
     },
     "execution_count": 14,
     "metadata": {},
     "output_type": "execute_result"
    }
   ],
   "source": [
    "df = (\n",
    "    account_df\n",
    "    .withColumnRenamed('date', 'date_acct')\n",
    "    .join(disp_df, on='account_id', how='outer')\n",
    "    .withColumnRenamed('account_id', 'account_id_acct')\n",
    "    )\n",
    "\n",
    "df.count()"
   ]
  },
  {
   "cell_type": "code",
   "execution_count": 15,
   "metadata": {},
   "outputs": [
    {
     "data": {
      "text/plain": [
       "5369"
      ]
     },
     "execution_count": 15,
     "metadata": {},
     "output_type": "execute_result"
    }
   ],
   "source": [
    "cond = (loan_df.account_id == df.account_id_acct)\n",
    "\n",
    "df = (\n",
    "    df\n",
    "    .join(loan_df.withColumnRenamed('date', 'date_loan'), on = cond, how='left')\n",
    ")\n",
    "\n",
    "df.count()"
   ]
  },
  {
   "cell_type": "code",
   "execution_count": 16,
   "metadata": {},
   "outputs": [
    {
     "data": {
      "text/plain": [
       "['client_id', 'date_birth', 'district_id', 'gender']"
      ]
     },
     "execution_count": 16,
     "metadata": {},
     "output_type": "execute_result"
    }
   ],
   "source": [
    "client_df.columns"
   ]
  },
  {
   "cell_type": "code",
   "execution_count": 17,
   "metadata": {},
   "outputs": [
    {
     "data": {
      "text/plain": [
       "5369"
      ]
     },
     "execution_count": 17,
     "metadata": {},
     "output_type": "execute_result"
    }
   ],
   "source": [
    "df = (\n",
    "    df\n",
    "    .withColumnRenamed('district_id', 'district_id_bank')\n",
    "    .join(client_df, on='client_id', how='outer')\n",
    "    .withColumnRenamed('district_id', 'district_id_client')\n",
    "    )\n",
    "\n",
    "df.count()"
   ]
  },
  {
   "cell_type": "code",
   "execution_count": 18,
   "metadata": {},
   "outputs": [
    {
     "data": {
      "text/plain": [
       "5369"
      ]
     },
     "execution_count": 18,
     "metadata": {},
     "output_type": "execute_result"
    }
   ],
   "source": [
    "df = (\n",
    "    df\n",
    "    .withColumnRenamed('type', 'type_disp')\n",
    "    .join(card_df, on='disp_id', how='outer')\n",
    "    .withColumnRenamed('type', 'type_card')\n",
    "    )\n",
    "\n",
    "df.count()"
   ]
  },
  {
   "cell_type": "code",
   "execution_count": 19,
   "metadata": {},
   "outputs": [
    {
     "data": {
      "text/plain": [
       "5369"
      ]
     },
     "execution_count": 19,
     "metadata": {},
     "output_type": "execute_result"
    }
   ],
   "source": [
    "df = df.withColumnRenamed('date', 'date_card')\n",
    "df.count()"
   ]
  },
  {
   "cell_type": "code",
   "execution_count": 20,
   "metadata": {},
   "outputs": [
    {
     "name": "stdout",
     "output_type": "stream",
     "text": [
      "5369 total de registros, ie. um para cada cliente\n"
     ]
    }
   ],
   "source": [
    "print((df.count()),'total de registros, ie. um para cada cliente')  # should be 5369"
   ]
  },
  {
   "cell_type": "code",
   "execution_count": 21,
   "metadata": {},
   "outputs": [
    {
     "data": {
      "text/plain": [
       "827"
      ]
     },
     "execution_count": 21,
     "metadata": {},
     "output_type": "execute_result"
    }
   ],
   "source": [
    "df = df.filter(f.col('loan_id').isNotNull())\n",
    "df.count()"
   ]
  },
  {
   "cell_type": "code",
   "execution_count": 22,
   "metadata": {},
   "outputs": [
    {
     "name": "stdout",
     "output_type": "stream",
     "text": [
      "827 registros com um empréstimo; algumas contas repetidas devido a vários clientes na mesma conta\n",
      "682 registros de empréstimo e account_id exclusivo\n"
     ]
    }
   ],
   "source": [
    "print((df.count()),'registros com um empréstimo; algumas contas repetidas devido a vários clientes na mesma conta')  # should be 827\n",
    "\n",
    "print((df.select('account_id').distinct().count()),'registros de empréstimo e account_id exclusivo')  # should be 682"
   ]
  },
  {
   "cell_type": "code",
   "execution_count": 23,
   "metadata": {},
   "outputs": [
    {
     "name": "stdout",
     "output_type": "stream",
     "text": [
      "+-------+---------+---------------+----------------+--------+----------+---------+-------+----------+----------+------+--------+--------+------+----------+------------------+------+-------+---------+----------+\n",
      "|disp_id|client_id|account_id_acct|district_id_bank|stmt_frq| date_acct|type_disp|loan_id|account_id| date_loan|amount|duration|payments|status|date_birth|district_id_client|gender|card_id|type_card| date_card|\n",
      "+-------+---------+---------------+----------------+--------+----------+---------+-------+----------+----------+------+--------+--------+------+----------+------------------+------+-------+---------+----------+\n",
      "|  12430|    12738|          10351|              23| monthly|1995-05-04|    owner|   7115|     10351|1997-03-04| 88704|      48|  1848.0|     C|1960-10-29|                23|     F|   null|     null|      null|\n",
      "|  12431|    12739|          10351|              23| monthly|1995-05-04|disponent|   7115|     10351|1997-03-04| 88704|      48|  1848.0|     C|1958-01-17|                23|     M|   null|     null|      null|\n",
      "|  12532|    12840|          10436|              60| monthly|1996-03-21|    owner|   7136|     10436|1996-09-28| 54396|      36|  1511.0|     C|1939-07-27|                60|     M|   null|     null|      null|\n",
      "|   5965|     5965|           4937|              12| monthly|1993-02-20|    owner|   6004|      4937|1994-07-23|143904|      24|  5996.0|     A|1951-04-10|                50|     M|   null|     null|      null|\n",
      "|    810|      810|            675|              58| monthly|1995-08-03|    owner|   5110|       675|1997-04-01|102240|      60|  1704.0|     C|1945-09-24|                58|     F|    142|  classic|1998-07-01|\n",
      "|    811|      811|            675|              58| monthly|1995-08-03|disponent|   5110|       675|1997-04-01|102240|      60|  1704.0|     C|1940-05-28|                58|     M|   null|     null|      null|\n",
      "|  10813|    11121|           9030|              72| monthly|1995-01-21|    owner|   6818|      9030|1996-12-12|155616|      48|  3242.0|     C|1971-04-10|                72|     F|   null|     null|      null|\n",
      "|  10814|    11122|           9030|              72| monthly|1995-01-21|disponent|   6818|      9030|1996-12-12|155616|      48|  3242.0|     C|1979-06-10|                72|     M|   null|     null|      null|\n",
      "|  11486|    11794|           9583|              31|  weekly|1994-05-22|    owner|   6949|      9583|1995-12-12|104712|      24|  4363.0|     A|1970-10-07|                31|     F|   null|     null|      null|\n",
      "|  11487|    11795|           9583|              31|  weekly|1994-05-22|disponent|   6949|      9583|1995-12-12|104712|      24|  4363.0|     A|1977-02-23|                31|     M|   null|     null|      null|\n",
      "|   5911|     5911|           4894|              14| monthly|1993-06-20|    owner|   5997|      4894|1993-11-04|117024|      24|  4876.0|     A|1935-10-03|                14|     M|    814|  classic|1996-02-15|\n",
      "|   9687|     9995|           8092|              54| monthly|1995-01-11|    owner|   6659|      8092|1996-02-20| 56100|      60|   935.0|     C|1958-07-07|                54|     M|   null|     null|      null|\n",
      "|   2190|     2190|           1808|              28| monthly|1997-05-16|    owner|   5318|      1808|1998-09-30|385584|      48|  8033.0|     C|1974-10-22|                28|     M|   null|     null|      null|\n",
      "|   2191|     2191|           1808|              28| monthly|1997-05-16|disponent|   5318|      1808|1998-09-30|385584|      48|  8033.0|     C|1979-08-04|                28|     F|   null|     null|      null|\n",
      "|   3291|     3291|           2725|              52| monthly|1997-04-02|    owner|   5526|      2725|1998-11-08| 69624|      36|  1934.0|     C|1947-01-23|                52|     M|    517|  classic|1998-01-09|\n",
      "|   4968|     4968|           4127|              50| monthly|1996-05-03|    owner|   5817|      4127|1997-08-15|100800|      24|  4200.0|     D|1938-05-26|                50|     M|   null|     null|      null|\n",
      "|   6257|     6257|           5181|              75| monthly|1996-02-03|    owner|   6055|      5181|1997-04-28|399120|      60|  6652.0|     C|1942-08-20|                75|     F|   null|     null|      null|\n",
      "|    798|      798|            666|              27| monthly|1996-03-15|    owner|   5103|       666|1997-11-28| 12540|      12|  1045.0|     A|1940-02-12|                27|     F|    140|  classic|1997-08-22|\n",
      "|    799|      799|            666|              27| monthly|1996-03-15|disponent|   5103|       666|1997-11-28| 12540|      12|  1045.0|     A|1936-02-19|                27|     M|   null|     null|      null|\n",
      "|   8888|     9196|           7418|              21| monthly|1995-04-07|    owner|   6501|      7418|1996-04-29| 30276|      12|  2523.0|     B|1939-04-23|                21|     F|   null|     null|      null|\n",
      "+-------+---------+---------------+----------------+--------+----------+---------+-------+----------+----------+------+--------+--------+------+----------+------------------+------+-------+---------+----------+\n",
      "only showing top 20 rows\n",
      "\n"
     ]
    }
   ],
   "source": [
    "df.show()"
   ]
  },
  {
   "cell_type": "code",
   "execution_count": 24,
   "metadata": {},
   "outputs": [],
   "source": [
    "caminho = 'C:\\\\Users\\\\renat\\\\Documents\\\\00_MBA\\\\PROJETO_APLICADO\\\\ML-predict-loan-MBA-applied-project\\\\dados_mergeados'"
   ]
  },
  {
   "cell_type": "code",
   "execution_count": 25,
   "metadata": {},
   "outputs": [],
   "source": [
    "df.coalesce(1).write.format(\"csv\").option(\"header\", \"true\").mode(\"overwrite\").save(f\"{caminho}\")"
   ]
  },
  {
   "cell_type": "code",
   "execution_count": null,
   "metadata": {},
   "outputs": [],
   "source": []
  }
 ],
 "metadata": {
  "kernelspec": {
   "display_name": "base",
   "language": "python",
   "name": "python3"
  },
  "language_info": {
   "codemirror_mode": {
    "name": "ipython",
    "version": 3
   },
   "file_extension": ".py",
   "mimetype": "text/x-python",
   "name": "python",
   "nbconvert_exporter": "python",
   "pygments_lexer": "ipython3",
   "version": "3.8.8"
  },
  "orig_nbformat": 4
 },
 "nbformat": 4,
 "nbformat_minor": 2
}
