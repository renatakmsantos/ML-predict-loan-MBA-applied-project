{
 "cells": [
  {
   "cell_type": "code",
   "execution_count": 2,
   "metadata": {},
   "outputs": [],
   "source": [
    "#%pip install findspark\n",
    "#%pip install pyspark\n",
    "#%pip install imblearn"
   ]
  },
  {
   "cell_type": "code",
   "execution_count": 1,
   "metadata": {},
   "outputs": [],
   "source": [
    "## python 3.8.8\n",
    "import findspark\n",
    "findspark.init()"
   ]
  },
  {
   "cell_type": "code",
   "execution_count": 2,
   "metadata": {},
   "outputs": [
    {
     "data": {
      "text/plain": [
       "'3.0.0'"
      ]
     },
     "execution_count": 2,
     "metadata": {},
     "output_type": "execute_result"
    }
   ],
   "source": [
    "from pyspark.sql import SparkSession\n",
    "\n",
    "# Spark entry point\n",
    "spark = SparkSession \\\n",
    "    .builder \\\n",
    "    .appName(\"EDA-pkdd99-xpeMBA\") \\\n",
    "    .getOrCreate()\n",
    "\n",
    "spark.version\n"
   ]
  },
  {
   "cell_type": "code",
   "execution_count": 3,
   "metadata": {},
   "outputs": [],
   "source": [
    "import os\n",
    "import pyspark\n",
    "import pyspark.sql.utils\n",
    "from pyspark.sql import functions as f\n",
    "from pyspark.sql import window as w\n",
    "from pyspark.sql import types as t\n",
    "from datetime import timedelta\n",
    "import datetime\n",
    "import time\n",
    "import numpy as np\n",
    "import pandas as pd\n",
    "import matplotlib.pyplot as plt\n",
    "#from sklearn.model_selection import train_test_split\n",
    "#from sklearn import metrics\n",
    "#from imblearn.over_sampling import SMOTE\n",
    "#from sklearn.metrics import precision_score, recall_score, confusion_matrix, accuracy_score, roc_auc_score, f1_score, roc_curve, auc,precision_recall_curve\n",
    "#from sklearn.linear_model import LogisticRegression\n",
    "#import pickle\n"
   ]
  },
  {
   "attachments": {},
   "cell_type": "markdown",
   "metadata": {},
   "source": [
    "Esses notebooks mostram o trabalho de EDA que fiz para me familiarizar com o conjunto de dados e criar algumas visualizações básicas nos recursos extraídos.\n",
    "Para as parcelas, as verdes (esquerda) correspondem a empréstimos bons e as vermelhas correspondem a empréstimos ruins (inadimplência) se definirmos default como aqueles empréstimos com status de B ou D."
   ]
  },
  {
   "cell_type": "code",
   "execution_count": 6,
   "metadata": {},
   "outputs": [],
   "source": [
    "\n",
    "def read_df_asc(tabela=str):\n",
    "    \"\"\"\n",
    "    Função para as bases de dados onde retorna no print o 'shape', um breve 'show' e o Scheema das variáveis.\n",
    "    :param entidade_name: string que referencie o nome da tabela que complete o caminho './original_data/{tabela}.asc'. \n",
    "    tabela pode ser => account, card, client, disp, district, loan, order \n",
    "    :return: DataFrame em pyspark\n",
    "    \"\"\"\n",
    "    df = spark.read.csv(path = f'./{tabela}.asc', header='True',inferSchema='False', sep=';')\n",
    "    print('\\n','A base de dados possui:',df.count(), 'linhas', 'e', len(df.columns), 'colunas', '\\n')\n",
    "    print(df.show(5))\n",
    "    print(df.printSchema())\n",
    "    return(df)"
   ]
  },
  {
   "cell_type": "code",
   "execution_count": 7,
   "metadata": {},
   "outputs": [
    {
     "name": "stdout",
     "output_type": "stream",
     "text": [
      "\n",
      " A base de dados possui: 682 linhas e 7 colunas \n",
      "\n",
      "+-------+----------+------+------+--------+--------+------+\n",
      "|loan_id|account_id|  date|amount|duration|payments|status|\n",
      "+-------+----------+------+------+--------+--------+------+\n",
      "|   5314|      1787|930705| 96396|      12| 8033.00|     B|\n",
      "|   5316|      1801|930711|165960|      36| 4610.00|     A|\n",
      "|   6863|      9188|930728|127080|      60| 2118.00|     A|\n",
      "|   5325|      1843|930803|105804|      36| 2939.00|     A|\n",
      "|   7240|     11013|930906|274740|      60| 4579.00|     A|\n",
      "+-------+----------+------+------+--------+--------+------+\n",
      "only showing top 5 rows\n",
      "\n",
      "None\n",
      "root\n",
      " |-- loan_id: string (nullable = true)\n",
      " |-- account_id: string (nullable = true)\n",
      " |-- date: string (nullable = true)\n",
      " |-- amount: string (nullable = true)\n",
      " |-- duration: string (nullable = true)\n",
      " |-- payments: string (nullable = true)\n",
      " |-- status: string (nullable = true)\n",
      "\n",
      "None\n"
     ]
    }
   ],
   "source": [
    "loan_df = read_df_asc('loan')"
   ]
  },
  {
   "cell_type": "code",
   "execution_count": 8,
   "metadata": {},
   "outputs": [
    {
     "name": "stdout",
     "output_type": "stream",
     "text": [
      "+-------+----------+----------+------+--------+--------+------+\n",
      "|loan_id|account_id|date_loan |amount|duration|payments|status|\n",
      "+-------+----------+----------+------+--------+--------+------+\n",
      "|5314   |1787      |1993-07-05|96396 |12      |8033.0  |B     |\n",
      "|5316   |1801      |1993-07-11|165960|36      |4610.0  |A     |\n",
      "|6863   |9188      |1993-07-28|127080|60      |2118.0  |A     |\n",
      "|5325   |1843      |1993-08-03|105804|36      |2939.0  |A     |\n",
      "|7240   |11013     |1993-09-06|274740|60      |4579.0  |A     |\n",
      "|6687   |8261      |1993-09-13|87840 |24      |3660.0  |A     |\n",
      "|7284   |11265     |1993-09-15|52788 |12      |4399.0  |A     |\n",
      "|6111   |5428      |1993-09-24|174744|24      |7281.0  |B     |\n",
      "|7235   |10973     |1993-10-13|154416|48      |3217.0  |A     |\n",
      "|5997   |4894      |1993-11-04|117024|24      |4876.0  |A     |\n",
      "|7121   |10364     |1993-11-10|21924 |36      |609.0   |A     |\n",
      "|6077   |5270      |1993-11-22|79608 |24      |3317.0  |A     |\n",
      "|6228   |6034      |1993-12-01|464520|60      |7742.0  |B     |\n",
      "|6356   |6701      |1993-12-08|95400 |36      |2650.0  |A     |\n",
      "|5523   |2705      |1993-12-08|93888 |36      |2608.0  |A     |\n",
      "|6456   |7123      |1993-12-09|47016 |12      |3918.0  |A     |\n",
      "|7104   |10320     |1993-12-13|259740|60      |4329.0  |A     |\n",
      "|6820   |9034      |1993-12-16|38148 |12      |3179.0  |A     |\n",
      "|6876   |9236      |1993-12-21|86616 |12      |7218.0  |A     |\n",
      "|7097   |10266     |1993-12-23|75624 |24      |3151.0  |B     |\n",
      "+-------+----------+----------+------+--------+--------+------+\n",
      "only showing top 20 rows\n",
      "\n"
     ]
    }
   ],
   "source": [
    "loan_df1 = (\n",
    "    loan_df\n",
    "    .withColumnRenamed(\"date\", \"date_loan\")\n",
    "    )\n",
    "loan_df1.show(truncate=False)"
   ]
  },
  {
   "cell_type": "code",
   "execution_count": 8,
   "metadata": {},
   "outputs": [
    {
     "name": "stdout",
     "output_type": "stream",
     "text": [
      "\n",
      " A base de dados possui: 4500 linhas e 4 colunas \n",
      "\n",
      "+----------+-----------+----------------+------+\n",
      "|account_id|district_id|       frequency|  date|\n",
      "+----------+-----------+----------------+------+\n",
      "|       576|         55|POPLATEK MESICNE|930101|\n",
      "|      3818|         74|POPLATEK MESICNE|930101|\n",
      "|       704|         55|POPLATEK MESICNE|930101|\n",
      "|      2378|         16|POPLATEK MESICNE|930101|\n",
      "|      2632|         24|POPLATEK MESICNE|930102|\n",
      "+----------+-----------+----------------+------+\n",
      "only showing top 5 rows\n",
      "\n",
      "None\n",
      "root\n",
      " |-- account_id: string (nullable = true)\n",
      " |-- district_id: string (nullable = true)\n",
      " |-- frequency: string (nullable = true)\n",
      " |-- date: string (nullable = true)\n",
      "\n",
      "None\n"
     ]
    }
   ],
   "source": [
    "account_df = read_df_asc('account')"
   ]
  },
  {
   "cell_type": "code",
   "execution_count": 10,
   "metadata": {},
   "outputs": [
    {
     "name": "stdout",
     "output_type": "stream",
     "text": [
      "+----------+-----------+--------+------------+\n",
      "|account_id|district_id|stmt_frq|date_account|\n",
      "+----------+-----------+--------+------------+\n",
      "|576       |55         |monthly |1993-01-01  |\n",
      "|3818      |74         |monthly |1993-01-01  |\n",
      "|704       |55         |monthly |1993-01-01  |\n",
      "|2378      |16         |monthly |1993-01-01  |\n",
      "|2632      |24         |monthly |1993-01-02  |\n",
      "|1972      |77         |monthly |1993-01-02  |\n",
      "|1539      |1          |after_tr|1993-01-03  |\n",
      "|793       |47         |monthly |1993-01-03  |\n",
      "|2484      |74         |monthly |1993-01-03  |\n",
      "|1695      |76         |monthly |1993-01-03  |\n",
      "|1726      |48         |monthly |1993-01-03  |\n",
      "|2881      |70         |monthly |1993-01-04  |\n",
      "|2357      |19         |monthly |1993-01-04  |\n",
      "|2177      |62         |monthly |1993-01-04  |\n",
      "|485       |6          |after_tr|1993-01-04  |\n",
      "|652       |21         |monthly |1993-01-05  |\n",
      "|9635      |70         |monthly |1993-01-05  |\n",
      "|1844      |44         |monthly |1993-01-06  |\n",
      "|1926      |37         |monthly |1993-01-06  |\n",
      "|2393      |10         |monthly |1993-01-07  |\n",
      "+----------+-----------+--------+------------+\n",
      "only showing top 20 rows\n",
      "\n"
     ]
    }
   ],
   "source": [
    "account_df1 =(\n",
    "    account_df\n",
    "    .withColumnRenamed(\"date\", \"date_account\")\n",
    ")\n",
    "account_df1.show(truncate=False)"
   ]
  },
  {
   "attachments": {},
   "cell_type": "markdown",
   "metadata": {},
   "source": [
    "## Loan and Account\n",
    "\n",
    "* 606 good loans and 76 bad\n",
    "* Features extracted:\n",
    "   - loan amount\n",
    "   - loan duration\n",
    "   - loan payment\n",
    "   - account district id\n",
    "   - frequency\n",
    "   - date loan issued\n",
    "   - date account opened\n",
    "   - days between"
   ]
  },
  {
   "cell_type": "code",
   "execution_count": 11,
   "metadata": {},
   "outputs": [
    {
     "name": "stdout",
     "output_type": "stream",
     "text": [
      "682\n",
      "4500\n"
     ]
    }
   ],
   "source": [
    "print(loan_df1.count())\n",
    "print(account_df1.count())"
   ]
  },
  {
   "cell_type": "code",
   "execution_count": 12,
   "metadata": {},
   "outputs": [],
   "source": [
    "df = account_df1.join(loan_df1, on=\"account_id\", how=\"inner\")\n",
    "df = df.withColumn(\"days_between\", f.datediff(\"date_loan\", \"date_account\"))\n"
   ]
  },
  {
   "cell_type": "code",
   "execution_count": 13,
   "metadata": {},
   "outputs": [
    {
     "name": "stdout",
     "output_type": "stream",
     "text": [
      "+-------+------------------+\n",
      "|summary|      days_between|\n",
      "+-------+------------------+\n",
      "|  count|               682|\n",
      "|   mean|398.24046920821115|\n",
      "| stddev| 164.6113589799098|\n",
      "|    min|               102|\n",
      "|    25%|               261|\n",
      "|    50%|               395|\n",
      "|    75%|               529|\n",
      "|    max|               697|\n",
      "+-------+------------------+\n",
      "\n"
     ]
    }
   ],
   "source": [
    "df.select('days_between').summary().show()"
   ]
  },
  {
   "cell_type": "code",
   "execution_count": 14,
   "metadata": {},
   "outputs": [
    {
     "name": "stdout",
     "output_type": "stream",
     "text": [
      "+----------+-----------+--------+------------+-------+----------+------+--------+--------+------+------------+\n",
      "|account_id|district_id|stmt_frq|date_account|loan_id| date_loan|amount|duration|payments|status|days_between|\n",
      "+----------+-----------+--------+------------+-------+----------+------+--------+--------+------+------------+\n",
      "|      5270|         44| monthly|  1993-01-13|   6077|1993-11-22| 79608|      24|  3317.0|     A|         313|\n",
      "|     11265|         15| monthly|  1993-01-14|   7284|1993-09-15| 52788|      12|  4399.0|     A|         244|\n",
      "|     10364|         55| monthly|  1993-01-17|   7121|1993-11-10| 21924|      36|   609.0|     A|         297|\n",
      "|      3834|         54| monthly|  1993-01-19|   5754|1994-09-28| 23052|      12|  1921.0|     A|         617|\n",
      "|      9307|         68| monthly|  1993-01-24|   6895|1994-09-19| 41904|      12|  3492.0|     A|         603|\n",
      "|      5891|         54| monthly|  1993-01-25|   6202|1994-04-18| 65184|      12|  5432.0|     A|         448|\n",
      "|      6473|         12| monthly|  1993-01-26|   6316|1994-05-26| 76908|      12|  6409.0|     B|         485|\n",
      "|      1843|         12| monthly|  1993-01-30|   5325|1993-08-03|105804|      36|  2939.0|     A|         185|\n",
      "|      9265|          1| monthly|  1993-02-04|   6888|1994-07-11| 39576|      12|  3298.0|     A|         522|\n",
      "|      8051|          1|  weekly|  1993-02-07|   6647|1994-06-01|208320|      48|  4340.0|     A|         479|\n",
      "|      5622|         70| monthly|  1993-02-08|   6150|1994-11-02| 83016|      12|  6918.0|     A|         632|\n",
      "|      7753|         74| monthly|  1993-02-08|   6577|1994-03-11| 51696|      24|  2154.0|     A|         396|\n",
      "|      9188|         45| monthly|  1993-02-08|   6863|1993-07-28|127080|      60|  2118.0|     A|         170|\n",
      "|       813|         16| monthly|  1993-02-10|   5130|1994-05-11| 24312|      12|  2026.0|     A|         455|\n",
      "|      1801|         46| monthly|  1993-02-13|   5316|1993-07-11|165960|      36|  4610.0|     A|         148|\n",
      "|     11013|          1|  weekly|  1993-02-14|   7240|1993-09-06|274740|      60|  4579.0|     A|         204|\n",
      "|      4937|         12| monthly|  1993-02-20|   6004|1994-07-23|143904|      24|  5996.0|     A|         518|\n",
      "|         2|          1| monthly|  1993-02-26|   4959|1994-01-05| 80952|      24|  3373.0|     A|         313|\n",
      "|      7401|          1| monthly|  1993-02-26|   6499|1994-01-05| 80952|      24|  3373.0|     A|         313|\n",
      "|      2486|          1| monthly|  1993-02-27|   5479|1994-01-10| 24516|      12|  2043.0|     A|         317|\n",
      "+----------+-----------+--------+------------+-------+----------+------+--------+--------+------+------------+\n",
      "only showing top 20 rows\n",
      "\n"
     ]
    }
   ],
   "source": [
    "df.show()"
   ]
  },
  {
   "attachments": {},
   "cell_type": "markdown",
   "metadata": {},
   "source": [
    "## Definição de bom e mau"
   ]
  },
  {
   "cell_type": "code",
   "execution_count": 15,
   "metadata": {},
   "outputs": [],
   "source": [
    "df_good = df.filter((f.col(\"status\") == \"A\") | (f.col(\"status\") == \"C\"))\n",
    "df_bad = df.filter((f.col(\"status\") == \"B\") | (f.col(\"status\") == \"D\"))"
   ]
  },
  {
   "cell_type": "code",
   "execution_count": 16,
   "metadata": {},
   "outputs": [
    {
     "name": "stdout",
     "output_type": "stream",
     "text": [
      "606\n",
      "76\n"
     ]
    }
   ],
   "source": [
    "print(df_good.count())\n",
    "print(df_bad.count())"
   ]
  },
  {
   "cell_type": "code",
   "execution_count": 17,
   "metadata": {},
   "outputs": [
    {
     "name": "stdout",
     "output_type": "stream",
     "text": [
      "+----------+-----------+--------+------------+-------+----------+------+--------+--------+------+------------+\n",
      "|account_id|district_id|stmt_frq|date_account|loan_id| date_loan|amount|duration|payments|status|days_between|\n",
      "+----------+-----------+--------+------------+-------+----------+------+--------+--------+------+------------+\n",
      "|      6473|         12| monthly|  1993-01-26|   6316|1994-05-26| 76908|      12|  6409.0|     B|         485|\n",
      "|      6034|          6|  weekly|  1993-03-19|   6228|1993-12-01|464520|      60|  7742.0|     B|         257|\n",
      "|      5442|         34| monthly|  1993-03-22|   6112|1994-06-17|174744|      24|  7281.0|     B|         452|\n",
      "|      1787|         30|  weekly|  1993-03-22|   5314|1993-07-05| 96396|      12|  8033.0|     B|         105|\n",
      "|      3678|          1| monthly|  1993-03-24|   5724|1995-02-05|316140|      60|  5269.0|     D|         683|\n",
      "+----------+-----------+--------+------------+-------+----------+------+--------+--------+------+------------+\n",
      "only showing top 5 rows\n",
      "\n"
     ]
    }
   ],
   "source": [
    "df_bad.show(5)"
   ]
  },
  {
   "attachments": {},
   "cell_type": "markdown",
   "metadata": {},
   "source": [
    "## Análise Gráfica"
   ]
  },
  {
   "cell_type": "code",
   "execution_count": 18,
   "metadata": {},
   "outputs": [],
   "source": [
    "df_good_pd = df_good.toPandas()\n",
    "df_bad_pd = df_bad.toPandas()"
   ]
  },
  {
   "cell_type": "code",
   "execution_count": 19,
   "metadata": {},
   "outputs": [
    {
     "data": {
      "image/png": "[encoded data removed]",
      "text/plain": [
       "<Figure size 1152x432 with 2 Axes>"
      ]
     },
     "metadata": {
      "needs_background": "light"
     },
     "output_type": "display_data"
    }
   ],
   "source": [
    "# Amount\n",
    "\n",
    "df_good_pd['amount'] = pd.to_numeric(df_good_pd['amount'])\n",
    "df_bad_pd['amount'] = pd.to_numeric(df_bad_pd['amount'])\n",
    "\n",
    "fig, (ax1, ax2) = plt.subplots(1, 2, figsize=(16, 6))\n",
    "df_good_pd.amount.hist(bins=20, ax=ax1, label='good', color='green', alpha=0.6)\n",
    "df_bad_pd.amount.hist(bins=20, ax=ax2, label='bad', color='red', alpha=0.6)\n",
    "ax1.set_title('Loan Amount')\n",
    "ax2.set_title('Loan Amount')\n",
    "ax1.legend()\n",
    "ax2.legend()\n",
    "plt.show()"
   ]
  },
  {
   "cell_type": "code",
   "execution_count": 20,
   "metadata": {},
   "outputs": [
    {
     "data": {
      "image/png": "[encoded data removed]",
      "text/plain": [
       "<Figure size 1152x432 with 2 Axes>"
      ]
     },
     "metadata": {
      "needs_background": "light"
     },
     "output_type": "display_data"
    }
   ],
   "source": [
    "# duration\n",
    "\n",
    "df_good_pd['duration'] = pd.to_numeric(df_good_pd['duration'])\n",
    "df_bad_pd['duration'] = pd.to_numeric(df_bad_pd['duration'])\n",
    "\n",
    "fig, (ax1, ax2) = plt.subplots(1, 2, figsize=(16, 6))\n",
    "df_good_pd.duration.hist(bins=20, ax=ax1, label='good', color='green', alpha=0.6)\n",
    "df_bad_pd.duration.hist(bins=20, ax=ax2, label='bad', color='red', alpha=0.6)\n",
    "ax1.legend()\n",
    "ax2.legend()\n",
    "plt.show()"
   ]
  },
  {
   "cell_type": "code",
   "execution_count": 21,
   "metadata": {},
   "outputs": [
    {
     "data": {
      "image/png": "[encoded data removed]",
      "text/plain": [
       "<Figure size 1152x432 with 2 Axes>"
      ]
     },
     "metadata": {
      "needs_background": "light"
     },
     "output_type": "display_data"
    }
   ],
   "source": [
    "# payments\n",
    "\n",
    "df_good_pd['payments'] = pd.to_numeric(df_good_pd['payments'])\n",
    "df_bad_pd['payments'] = pd.to_numeric(df_bad_pd['payments'])\n",
    "\n",
    "fig, (ax1, ax2) = plt.subplots(1, 2, figsize=(16, 6))\n",
    "df_good_pd.payments.hist(bins=20, ax=ax1, label='good', color='green', alpha=0.6)\n",
    "df_bad_pd.payments.hist(bins=20, ax=ax2, label='bad', color='red', alpha=0.6)\n",
    "ax1.legend()\n",
    "ax2.legend()\n",
    "plt.show()"
   ]
  },
  {
   "cell_type": "code",
   "execution_count": 22,
   "metadata": {},
   "outputs": [
    {
     "data": {
      "image/png": "[encoded data removed]",
      "text/plain": [
       "<Figure size 1152x432 with 2 Axes>"
      ]
     },
     "metadata": {
      "needs_background": "light"
     },
     "output_type": "display_data"
    }
   ],
   "source": [
    "# frequency\n",
    "\n",
    "##\n",
    "df_good_pd['payments'] = pd.to_numeric(df_good_pd['payments'])\n",
    "df_bad_pd['payments'] = pd.to_numeric(df_bad_pd['payments'])\n",
    "\n",
    "fig, (ax1, ax2) = plt.subplots(1, 2, figsize=(16, 6))\n",
    "df_good_pd[['account_id', 'stmt_frq']].groupby('stmt_frq').count().plot(kind='bar', color='green', rot=30, ax=ax1, alpha=0.6, legend=False)\n",
    "df_bad_pd[['account_id', 'stmt_frq']].groupby('stmt_frq').count().plot(kind='bar', color='red', rot=30, ax=ax2, alpha=0.6, legend=False)\n",
    "ax1.legend()\n",
    "ax2.legend()\n",
    "plt.show()"
   ]
  },
  {
   "cell_type": "code",
   "execution_count": 24,
   "metadata": {},
   "outputs": [
    {
     "data": {
      "image/png": "[encoded data removed]",
      "text/plain": [
       "<Figure size 1152x432 with 2 Axes>"
      ]
     },
     "metadata": {
      "needs_background": "light"
     },
     "output_type": "display_data"
    }
   ],
   "source": [
    "# date loan issued\n",
    "df_good_pd['date_loan'] = pd.to_datetime(df_good_pd.date_loan, format='%Y-%m-%d')\n",
    "df_bad_pd['date_loan'] = pd.to_datetime(df_bad_pd.date_loan, format='%Y-%m-%d')\n",
    "\n",
    "fig, (ax1, ax2) = plt.subplots(1, 2, figsize=(16, 6))\n",
    "df_good_pd.date_loan.hist(bins=20, ax=ax1, label='good', color='green', alpha=0.6)\n",
    "df_bad_pd.date_loan.hist(bins=20, ax=ax2, label='bad', color='red', alpha=0.6)\n",
    "plt.show()"
   ]
  },
  {
   "cell_type": "code",
   "execution_count": 26,
   "metadata": {},
   "outputs": [
    {
     "data": {
      "image/png": "[encoded data removed]",
      "text/plain": [
       "<Figure size 1152x432 with 2 Axes>"
      ]
     },
     "metadata": {
      "needs_background": "light"
     },
     "output_type": "display_data"
    }
   ],
   "source": [
    "# date account opened\n",
    "\n",
    "df_good_pd['date_account'] = pd.to_datetime(df_good_pd.date_account, format='%Y-%m-%d')\n",
    "df_bad_pd['date_account'] = pd.to_datetime(df_bad_pd.date_account, format='%Y-%m-%d')\n",
    "\n",
    "\n",
    "fig, (ax1, ax2) = plt.subplots(1, 2, figsize=(16, 6))\n",
    "df_good_pd.date_account.hist(bins=20, ax=ax1, label='good', color='green', alpha=0.6)\n",
    "df_bad_pd.date_account.hist(bins=20, ax=ax2, label='bad', color='red', alpha=0.6)\n",
    "plt.show()"
   ]
  },
  {
   "cell_type": "code",
   "execution_count": 29,
   "metadata": {},
   "outputs": [
    {
     "data": {
      "image/png": "[encoded data removed]",
      "text/plain": [
       "<Figure size 1152x432 with 2 Axes>"
      ]
     },
     "metadata": {
      "needs_background": "light"
     },
     "output_type": "display_data"
    }
   ],
   "source": [
    "# days_between\n",
    "fig, (ax1, ax2) = plt.subplots(1, 2, figsize=(16, 6))\n",
    "df_good_pd.days_between.hist(bins=20, ax=ax1, label='good', color='green', alpha=0.6)\n",
    "df_bad_pd.days_between.hist(bins=20, ax=ax2, label='bad', color='red', alpha=0.6)\n",
    "ax1.set_title('Days Between Account Creation and Loan Issuance')\n",
    "ax2.set_title('Days Between Account Creation and Loan Issuance')\n",
    "ax1.legend()\n",
    "ax2.legend()\n",
    "plt.show()"
   ]
  },
  {
   "cell_type": "code",
   "execution_count": null,
   "metadata": {},
   "outputs": [],
   "source": []
  }
 ],
 "metadata": {
  "kernelspec": {
   "display_name": "base",
   "language": "python",
   "name": "python3"
  },
  "language_info": {
   "codemirror_mode": {
    "name": "ipython",
    "version": 3
   },
   "file_extension": ".py",
   "mimetype": "text/x-python",
   "name": "python",
   "nbconvert_exporter": "python",
   "pygments_lexer": "ipython3",
   "version": "3.8.8"
  },
  "vscode": {
   "interpreter": {
    "hash": "4f89240e11a62c0f9ffc54e01febbec25c1552bf38994777b0465512a43d202c"
   }
  }
 },
 "nbformat": 4,
 "nbformat_minor": 2
}
