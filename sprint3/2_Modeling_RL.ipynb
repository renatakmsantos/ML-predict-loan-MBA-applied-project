{
 "cells": [
  {
   "cell_type": "code",
   "execution_count": 1,
   "metadata": {},
   "outputs": [],
   "source": [
    "## usar python 3.8.8\n",
    "import findspark\n",
    "findspark.init()"
   ]
  },
  {
   "cell_type": "code",
   "execution_count": 2,
   "metadata": {},
   "outputs": [],
   "source": [
    "# Importando SparkSession para criar uma sessão do Spark\n",
    "from pyspark.sql import SparkSession\n",
    "\n",
    "# Importando funções e tipos de dados SparkSQL\n",
    "from pyspark.sql import functions as f\n",
    "from pyspark.sql.types import *\n",
    "\n",
    "# Importando módulos Spark MLlib\n",
    "from pyspark.ml import Pipeline\n",
    "from pyspark.ml.classification import LogisticRegression\n",
    "from pyspark.ml.evaluation import BinaryClassificationEvaluator\n",
    "from pyspark.ml.feature import Imputer, StandardScaler, VectorAssembler\n",
    "from pyspark.ml.tuning import CrossValidator, ParamGridBuilder\n",
    "\n",
    "\n",
    "\n",
    "# Importando SparkContext e SparkConf\n",
    "from pyspark import SparkContext, SparkConf\n"
   ]
  },
  {
   "cell_type": "code",
   "execution_count": 3,
   "metadata": {},
   "outputs": [
    {
     "data": {
      "text/plain": [
       "'3.0.0'"
      ]
     },
     "execution_count": 3,
     "metadata": {},
     "output_type": "execute_result"
    }
   ],
   "source": [
    "\n",
    "# Criando uma nova sessão do Spark\n",
    "# Spark entry point\n",
    "spark = SparkSession \\\n",
    "    .builder \\\n",
    "    .appName(\"modeling-pkdd99-xpeMBA\") \\\n",
    "    .getOrCreate()\n",
    "\n",
    "spark.version"
   ]
  },
  {
   "cell_type": "code",
   "execution_count": 4,
   "metadata": {},
   "outputs": [],
   "source": [
    "\n",
    "def read_df_csv(tabela=str):\n",
    "    \"\"\"\n",
    "    Função para as bases de dados onde retorna no print o 'shape', um breve 'show' e o Scheema das variáveis.\n",
    "    :param entidade_name: string que referencie o nome da tabela que complete o caminho './dados_originais/{tabela}.csv'. \n",
    "    tabela pode ser => trans, account, card, client, disp, district, loan, order \n",
    "    :return: DataFrame em pyspark\n",
    "    \"\"\"\n",
    "    path =\"C:\\\\Users\\\\renat\\\\Documents\\\\00_MBA\\\\PROJETO_APLICADO\\\\ML-predict-loan-MBA-applied-project\\\\dados_modelagem\"\n",
    "    df = spark.read.csv(path = f'{path}/{tabela}.csv', header='True',inferSchema='True', sep=',')\n",
    "    print('\\n','A base de dados possui:',df.count(), 'linhas', 'e', len(df.columns), 'colunas', '\\n')\n",
    "    print(df.show(5))\n",
    "    print(df.printSchema())\n",
    "    return(df)"
   ]
  },
  {
   "attachments": {},
   "cell_type": "markdown",
   "metadata": {},
   "source": [
    "# Base de entrada"
   ]
  },
  {
   "cell_type": "code",
   "execution_count": 5,
   "metadata": {},
   "outputs": [
    {
     "name": "stdout",
     "output_type": "stream",
     "text": [
      "\n",
      " A base de dados possui: 827 linhas e 26 colunas \n",
      "\n",
      "+----------+-------+---------+---------------+----------------+--------+----------+---------+-------+----------+------+--------+--------+------+----------+------------------+-------+---------+--------+-------+-----------------+------------------+--------+--------+-----+------------+\n",
      "|account_id|disp_id|client_id|account_id_acct|district_id_bank|stmt_frq| date_acct|type_disp|loan_id| date_loan|amount|duration|payments|status|date_birth|district_id_client|card_id|type_card|    min1|   max1|            mean1|             mean6|response|has_card|idade|days_between|\n",
      "+----------+-------+---------+---------------+----------------+--------+----------+---------+-------+----------+------+--------+--------+------+----------+------------------+-------+---------+--------+-------+-----------------+------------------+--------+--------+-----+------------+\n",
      "|     10351|  12430|    12738|          10351|              23| monthly|1995-05-04|    owner|   7115|1997-03-04| 88704|      48|  1848.0|     C|1960-10-29|                23|   null|     null| 11853.6| 9953.6|       18891.7448| 19977.38913043479|       1|       0|   36|         670|\n",
      "|     10351|  12431|    12739|          10351|              23| monthly|1995-05-04|disponent|   7115|1997-03-04| 88704|      48|  1848.0|     C|1958-01-17|                23|   null|     null| 11853.6| 9953.6|       18891.7448| 19977.38913043479|       1|       0|   39|         670|\n",
      "|     10436|  12532|    12840|          10436|              60| monthly|1996-03-21|    owner|   7136|1996-09-28| 54396|      36|  1511.0|     C|1939-07-27|                60|   null|     null| 18196.0| 8296.0|      27385.44375|             800.0|       1|       0|   57|         191|\n",
      "|      4937|   5965|     5965|           4937|              12| monthly|1993-02-20|    owner|   6004|1994-07-23|143904|      24|  5996.0|     A|1951-04-10|                50|   null|     null|100282.7|96774.9|49212.63181818183|        49524.9625|       1|       0|   43|         518|\n",
      "|       675|    810|      810|            675|              58| monthly|1995-08-03|    owner|   5110|1997-04-01|102240|      60|  1704.0|     C|1945-09-24|                58|  142.0|  classic| 10438.0|  900.0|29672.60504201679|28522.888607594923|       1|       1|   51|         607|\n",
      "+----------+-------+---------+---------------+----------------+--------+----------+---------+-------+----------+------+--------+--------+------+----------+------------------+-------+---------+--------+-------+-----------------+------------------+--------+--------+-----+------------+\n",
      "only showing top 5 rows\n",
      "\n",
      "None\n",
      "root\n",
      " |-- account_id: integer (nullable = true)\n",
      " |-- disp_id: integer (nullable = true)\n",
      " |-- client_id: integer (nullable = true)\n",
      " |-- account_id_acct: integer (nullable = true)\n",
      " |-- district_id_bank: integer (nullable = true)\n",
      " |-- stmt_frq: string (nullable = true)\n",
      " |-- date_acct: string (nullable = true)\n",
      " |-- type_disp: string (nullable = true)\n",
      " |-- loan_id: integer (nullable = true)\n",
      " |-- date_loan: string (nullable = true)\n",
      " |-- amount: integer (nullable = true)\n",
      " |-- duration: integer (nullable = true)\n",
      " |-- payments: double (nullable = true)\n",
      " |-- status: string (nullable = true)\n",
      " |-- date_birth: string (nullable = true)\n",
      " |-- district_id_client: integer (nullable = true)\n",
      " |-- card_id: double (nullable = true)\n",
      " |-- type_card: string (nullable = true)\n",
      " |-- min1: double (nullable = true)\n",
      " |-- max1: double (nullable = true)\n",
      " |-- mean1: double (nullable = true)\n",
      " |-- mean6: double (nullable = true)\n",
      " |-- response: integer (nullable = true)\n",
      " |-- has_card: integer (nullable = true)\n",
      " |-- idade: integer (nullable = true)\n",
      " |-- days_between: integer (nullable = true)\n",
      "\n",
      "None\n"
     ]
    }
   ],
   "source": [
    "df_model = read_df_csv('df_model')"
   ]
  },
  {
   "cell_type": "code",
   "execution_count": 6,
   "metadata": {},
   "outputs": [
    {
     "data": {
      "text/plain": [
       "[Row(account_id=10351, disp_id=12430, client_id=12738, account_id_acct=10351, district_id_bank=23, stmt_frq='monthly', date_acct='1995-05-04', type_disp='owner', loan_id=7115, date_loan='1997-03-04', amount=88704, duration=48, payments=1848.0, status='C', date_birth='1960-10-29', district_id_client=23, card_id=None, type_card=None, min1=11853.6, max1=9953.6, mean1=18891.7448, mean6=19977.38913043479, response=1, has_card=0, idade=36, days_between=670)]"
      ]
     },
     "execution_count": 6,
     "metadata": {},
     "output_type": "execute_result"
    }
   ],
   "source": [
    "df_model.take(1)"
   ]
  },
  {
   "attachments": {},
   "cell_type": "markdown",
   "metadata": {},
   "source": [
    "Definindo as variáveis em explicativas e resposta"
   ]
  },
  {
   "cell_type": "code",
   "execution_count": 7,
   "metadata": {},
   "outputs": [
    {
     "data": {
      "text/plain": [
       "['amount',\n",
       " 'duration',\n",
       " 'payments',\n",
       " 'min1',\n",
       " 'max1',\n",
       " 'mean1',\n",
       " 'mean6',\n",
       " 'has_card',\n",
       " 'idade',\n",
       " 'days_between']"
      ]
     },
     "execution_count": 7,
     "metadata": {},
     "output_type": "execute_result"
    }
   ],
   "source": [
    "df_model2 = df_model.select('amount', 'duration', 'payments', 'min1', 'max1', 'mean1', 'mean6', 'has_card', 'idade', 'days_between', 'response')\n",
    "\n",
    "df_model2 =  df_model2.withColumnRenamed('response', 'label')\n",
    "\n",
    "cols = df_model2.columns[:-1]\n",
    "\n",
    "cols"
   ]
  },
  {
   "cell_type": "code",
   "execution_count": 8,
   "metadata": {},
   "outputs": [
    {
     "name": "stdout",
     "output_type": "stream",
     "text": [
      "root\n",
      " |-- amount: integer (nullable = true)\n",
      " |-- duration: integer (nullable = true)\n",
      " |-- payments: double (nullable = true)\n",
      " |-- min1: double (nullable = true)\n",
      " |-- max1: double (nullable = true)\n",
      " |-- mean1: double (nullable = true)\n",
      " |-- mean6: double (nullable = true)\n",
      " |-- has_card: integer (nullable = true)\n",
      " |-- idade: integer (nullable = true)\n",
      " |-- days_between: integer (nullable = true)\n",
      " |-- label: integer (nullable = true)\n",
      "\n"
     ]
    }
   ],
   "source": [
    "df_model2.printSchema()"
   ]
  },
  {
   "cell_type": "code",
   "execution_count": 9,
   "metadata": {},
   "outputs": [
    {
     "name": "stdout",
     "output_type": "stream",
     "text": [
      "+------+--------+--------+----+----+-----+-----+--------+-----+------------+-----+\n",
      "|amount|duration|payments|min1|max1|mean1|mean6|has_card|idade|days_between|label|\n",
      "+------+--------+--------+----+----+-----+-----+--------+-----+------------+-----+\n",
      "|     0|       0|       0|   0|   0|    0|   98|       0|    0|           0|    0|\n",
      "+------+--------+--------+----+----+-----+-----+--------+-----+------------+-----+\n",
      "\n"
     ]
    }
   ],
   "source": [
    "# contar valores ausentes por coluna\n",
    "missing_counts = df_model2.select([f.sum(f.col(c).isNull().cast(\"int\")).alias(c) for c in df_model2.columns])\n",
    "\n",
    "# mostrar o resultado\n",
    "missing_counts.show()\n"
   ]
  },
  {
   "cell_type": "code",
   "execution_count": 10,
   "metadata": {},
   "outputs": [
    {
     "data": {
      "text/plain": [
       "['amount',\n",
       " 'duration',\n",
       " 'payments',\n",
       " 'min1',\n",
       " 'max1',\n",
       " 'mean1',\n",
       " 'mean6',\n",
       " 'has_card',\n",
       " 'idade',\n",
       " 'days_between',\n",
       " 'label']"
      ]
     },
     "execution_count": 10,
     "metadata": {},
     "output_type": "execute_result"
    }
   ],
   "source": [
    "df_model2.columns"
   ]
  },
  {
   "cell_type": "code",
   "execution_count": 11,
   "metadata": {},
   "outputs": [
    {
     "name": "stdout",
     "output_type": "stream",
     "text": [
      "+-------+-----------------+\n",
      "|summary|            mean6|\n",
      "+-------+-----------------+\n",
      "|   mean|40452.95037533935|\n",
      "+-------+-----------------+\n",
      "\n"
     ]
    }
   ],
   "source": [
    "df_model2.select('mean6').summary('mean').show()"
   ]
  },
  {
   "cell_type": "code",
   "execution_count": 12,
   "metadata": {},
   "outputs": [],
   "source": [
    "df_model2 = df_model2.fillna({'mean6': 40452.95})"
   ]
  },
  {
   "attachments": {},
   "cell_type": "markdown",
   "metadata": {},
   "source": [
    "Criar um VectorAssembler para transformar as variáveis explicativas em uma única coluna de vetores"
   ]
  },
  {
   "cell_type": "code",
   "execution_count": 13,
   "metadata": {},
   "outputs": [],
   "source": [
    "# Define o VectorAssembler para unir as colunas em uma única coluna vetorizada\n",
    "assembler = VectorAssembler(\n",
    "    inputCols=df_model2.columns[:-1],\n",
    "    outputCol=\"features\"\n",
    ")"
   ]
  },
  {
   "attachments": {},
   "cell_type": "markdown",
   "metadata": {},
   "source": [
    " MinMaxScaler ou o StandardScaler para dimensionar os dados para que características como salário, idade e renda contribuam igualmente para a análise contribuam igualmente para a análise. Ao dimensionar os dados, podemos garantir que cada recurso tenha um impacto igual no desempenho do modelo, e o modelo pode fazer previsões mais precisas."
   ]
  },
  {
   "attachments": {},
   "cell_type": "markdown",
   "metadata": {},
   "source": [
    "O conceito de normalização é implementado em Python usando MinMaxScaler e o conceito de padronização é implementado usando StandardScaler.\n",
    " MinMaxScaler dimensiona os dados para um intervalo fixo, normalmente entre 0 e 1. Por outro lado, StandardScaler redimensiona os dados para que tenham uma média de 0 e um desvio padrão de 1. Isso resulta em uma distribuição com média zero e variação de unidade. \n",
    " \n",
    " https://vitalflux.com/minmaxscaler-standardscaler-python-examples/"
   ]
  },
  {
   "attachments": {},
   "cell_type": "markdown",
   "metadata": {},
   "source": [
    "Criando o StandardScaler"
   ]
  },
  {
   "cell_type": "code",
   "execution_count": 14,
   "metadata": {},
   "outputs": [],
   "source": [
    "# Define o StandardScaler para normalizar as variáveis\n",
    "scaler = StandardScaler(\n",
    "    inputCol=\"features\",\n",
    "    outputCol=\"scaledFeatures\",\n",
    "    withStd=True,\n",
    "    withMean=False\n",
    ")"
   ]
  },
  {
   "attachments": {},
   "cell_type": "markdown",
   "metadata": {},
   "source": [
    "Definindo o pipeline para unir as etapas de pré-processamento"
   ]
  },
  {
   "cell_type": "code",
   "execution_count": 15,
   "metadata": {},
   "outputs": [],
   "source": [
    "# Define o Pipeline com as etapas de pré-processamento e o modelo\n",
    "\n",
    "pipeline = Pipeline(stages=[assembler, scaler])"
   ]
  },
  {
   "cell_type": "code",
   "execution_count": 16,
   "metadata": {},
   "outputs": [],
   "source": [
    "pipelineModel = pipeline.fit(df_model2)"
   ]
  },
  {
   "cell_type": "code",
   "execution_count": 17,
   "metadata": {},
   "outputs": [],
   "source": [
    "df_transformed = pipelineModel.transform(df_model2)"
   ]
  },
  {
   "cell_type": "code",
   "execution_count": 18,
   "metadata": {},
   "outputs": [
    {
     "name": "stdout",
     "output_type": "stream",
     "text": [
      "+------+--------+--------+--------+-------+------------------+------------------+--------+-----+------------+-----+--------------------+--------------------+\n",
      "|amount|duration|payments|    min1|   max1|             mean1|             mean6|has_card|idade|days_between|label|            features|      scaledFeatures|\n",
      "+------+--------+--------+--------+-------+------------------+------------------+--------+-----+------------+-----+--------------------+--------------------+\n",
      "| 88704|      48|  1848.0| 11853.6| 9953.6|        18891.7448| 19977.38913043479|       0|   36|         670|    1|[88704.0,48.0,184...|[0.77418650865161...|\n",
      "| 88704|      48|  1848.0| 11853.6| 9953.6|        18891.7448| 19977.38913043479|       0|   39|         670|    1|[88704.0,48.0,184...|[0.77418650865161...|\n",
      "| 54396|      36|  1511.0| 18196.0| 8296.0|       27385.44375|             800.0|       0|   57|         191|    1|[54396.0,36.0,151...|[0.47475479487524...|\n",
      "|143904|      24|  5996.0|100282.7|96774.9| 49212.63181818183|        49524.9625|       0|   43|         518|    1|[143904.0,24.0,59...|[1.25595841609174...|\n",
      "|102240|      60|  1704.0| 10438.0|  900.0| 29672.60504201679|28522.888607594923|       1|   51|         607|    1|[102240.0,60.0,17...|[0.89232535899780...|\n",
      "|102240|      60|  1704.0| 10438.0|  900.0| 29672.60504201679|28522.888607594923|       0|   56|         607|    1|[102240.0,60.0,17...|[0.89232535899780...|\n",
      "|155616|      48|  3242.0| 17792.0|73261.2| 43766.96909090906|  44716.1087301587|       0|   25|         691|    1|[155616.0,48.0,32...|[1.35817784688774...|\n",
      "|155616|      48|  3242.0| 17792.0|73261.2| 43766.96909090906|  44716.1087301587|       0|   17|         691|    1|[155616.0,48.0,32...|[1.35817784688774...|\n",
      "|104712|      24|  4363.0|116809.2|97532.7| 52700.12647058825| 41260.86034482761|       0|   25|         569|    1|[104712.0,24.0,43...|[0.91390036180925...|\n",
      "|104712|      24|  4363.0|116809.2|97532.7| 52700.12647058825| 41260.86034482761|       0|   18|         569|    1|[104712.0,24.0,43...|[0.91390036180925...|\n",
      "| 56100|      60|   935.0|  1000.0| 9899.1|20549.230158730166|26157.734482758613|       0|   37|         405|    1|[56100.0,60.0,935...|[0.48962688419187...|\n",
      "|385584|      48|  8033.0|106530.1|98638.1| 71744.03055555554| 60002.15294117648|       0|   23|         502|    1|[385584.0,48.0,80...|[3.36528150649266...|\n",
      "|385584|      48|  8033.0|106530.1|98638.1| 71744.03055555554| 60002.15294117648|       0|   19|         502|    1|[385584.0,48.0,80...|[3.36528150649266...|\n",
      "| 69624|      36|  1934.0|  1100.0|74473.4|48848.771223021584| 48824.17916666667|       1|   51|         585|    1|[69624.0,36.0,193...|[0.60766100151470...|\n",
      "|100800|      24|  4200.0| -1033.8|92354.7| 28517.63666666666| 42296.14230769231|       0|   59|         469|    0|[100800.0,24.0,42...|[0.87975739619502...|\n",
      "|399120|      60|  6652.0| 12000.0|85656.2| 43888.80178571428| 48992.67142857142|       0|   54|         450|    1|[399120.0,60.0,66...|[3.48342035683885...|\n",
      "| 12540|      12|  1045.0| 14858.0|57779.4| 41539.73636363639| 38930.43495145633|       1|   57|         623|    1|[12540.0,12.0,104...|[0.10944600940759...|\n",
      "| 12540|      12|  1045.0| 14858.0|57779.4| 41539.73636363639| 38930.43495145633|       0|   61|         623|    1|[12540.0,12.0,104...|[0.10944600940759...|\n",
      "| 30276|      12|  2523.0|  1000.0| 8322.5| 31481.05952380953| 34767.38666666667|       0|   57|         388|    0|[30276.0,12.0,252...|[0.26424141792857...|\n",
      "|191088|      48|  3981.0| 12325.4|57550.1|32398.580555555556| 37199.23684210526|       0|   34|         408|    1|[191088.0,48.0,39...|[1.66776866392970...|\n",
      "+------+--------+--------+--------+-------+------------------+------------------+--------+-----+------------+-----+--------------------+--------------------+\n",
      "only showing top 20 rows\n",
      "\n"
     ]
    }
   ],
   "source": [
    "df_transformed.show()"
   ]
  },
  {
   "attachments": {},
   "cell_type": "markdown",
   "metadata": {},
   "source": [
    "Divide o dataset em conjuntos de treinamento e teste"
   ]
  },
  {
   "cell_type": "code",
   "execution_count": 19,
   "metadata": {},
   "outputs": [
    {
     "name": "stdout",
     "output_type": "stream",
     "text": [
      "base de treino 592\n",
      "base de teste 235\n"
     ]
    }
   ],
   "source": [
    "(trainData, testData) = df_transformed.randomSplit([0.7, 0.3], seed=12345)\n",
    "print('base de treino',trainData.count())\n",
    "print('base de teste',testData.count())"
   ]
  },
  {
   "cell_type": "code",
   "execution_count": 20,
   "metadata": {},
   "outputs": [
    {
     "name": "stdout",
     "output_type": "stream",
     "text": [
      "+-------+------------------+\n",
      "|summary|             label|\n",
      "+-------+------------------+\n",
      "|   mean|0.9121621621621622|\n",
      "+-------+------------------+\n",
      "\n"
     ]
    }
   ],
   "source": [
    "trainData.select('label').summary('mean').show()"
   ]
  },
  {
   "cell_type": "code",
   "execution_count": 21,
   "metadata": {},
   "outputs": [
    {
     "name": "stdout",
     "output_type": "stream",
     "text": [
      "+-------+------------------+\n",
      "|summary|             label|\n",
      "+-------+------------------+\n",
      "|   mean|0.8978723404255319|\n",
      "+-------+------------------+\n",
      "\n"
     ]
    }
   ],
   "source": [
    "testData.select('label').summary('mean').show()"
   ]
  },
  {
   "attachments": {},
   "cell_type": "markdown",
   "metadata": {},
   "source": [
    "Definindo o modelo de Regressão Logística"
   ]
  },
  {
   "attachments": {},
   "cell_type": "markdown",
   "metadata": {},
   "source": [
    "No MLLib, a Regressão Logística não possui um método de cálculo de feature importance embutido. No entanto, é possível calcular a importância das features de forma aproximada usando o método \"L1 Regularization\" (também conhecido como \"Lasso regularization\").\n",
    "\n",
    "Essa técnica de regularização penaliza os coeficientes das features que não são relevantes para a predição, forçando-os a terem valor zero. Dessa forma, as features com coeficientes não-nulos são consideradas mais importantes.\n",
    "\n",
    "Para realizar esse método no MLLib, basta usar o parâmetro \"elasticNetParam\" da função LogisticRegression, que controla a proporção de regularização L1 e L2. Ao definir o valor de \"elasticNetParam\" como 1 (que significa 100% de regularização L1), a regressão logística irá utilizar apenas L1 regularization, o que resultará em alguns coeficientes com valor zero."
   ]
  },
  {
   "cell_type": "code",
   "execution_count": 22,
   "metadata": {},
   "outputs": [],
   "source": [
    "lr = LogisticRegression(featuresCol = 'scaledFeatures', labelCol = 'label', elasticNetParam=1)"
   ]
  },
  {
   "attachments": {},
   "cell_type": "markdown",
   "metadata": {},
   "source": [
    "Define os parâmetros a serem testados"
   ]
  },
  {
   "cell_type": "code",
   "execution_count": 23,
   "metadata": {},
   "outputs": [],
   "source": [
    "# \n",
    "#paramGrid = ParamGridBuilder() \\\n",
    "#    .addGrid(lr.regParam, [0.1, 0.01]) \\\n",
    "#    .addGrid(lr.elasticNetParam, [0.0, 0.5, 1.0]) \\\n",
    "#    .build()"
   ]
  },
  {
   "attachments": {},
   "cell_type": "markdown",
   "metadata": {},
   "source": [
    "Definindo o avaliador para a validação cruzada"
   ]
  },
  {
   "cell_type": "code",
   "execution_count": 24,
   "metadata": {},
   "outputs": [],
   "source": [
    "\n",
    "evaluator = BinaryClassificationEvaluator(\n",
    "    labelCol='label',\n",
    "    rawPredictionCol=\"rawPrediction\",\n",
    "    metricName=\"areaUnderROC\"\n",
    ")"
   ]
  },
  {
   "attachments": {},
   "cell_type": "markdown",
   "metadata": {},
   "source": [
    "Definindo a validação cruzada com 5 folds"
   ]
  },
  {
   "cell_type": "code",
   "execution_count": 25,
   "metadata": {},
   "outputs": [],
   "source": [
    "\n",
    "# \n",
    "#crossval = CrossValidator(\n",
    "#    estimator=lr,\n",
    "#    estimatorParamMaps=paramGrid,\n",
    "#    evaluator=evaluator,\n",
    "#    numFolds=5\n",
    "#)"
   ]
  },
  {
   "attachments": {},
   "cell_type": "markdown",
   "metadata": {},
   "source": [
    "Ajusta o modelo com a validação cruzada"
   ]
  },
  {
   "cell_type": "code",
   "execution_count": 26,
   "metadata": {},
   "outputs": [],
   "source": [
    "# \n",
    "#modelo = crossval.fit(trainData)"
   ]
  },
  {
   "cell_type": "code",
   "execution_count": 27,
   "metadata": {},
   "outputs": [],
   "source": [
    "# \n",
    "modelo = lr.fit(trainData)"
   ]
  },
  {
   "cell_type": "code",
   "execution_count": 28,
   "metadata": {},
   "outputs": [],
   "source": [
    "coefficients = modelo.coefficients.toArray()"
   ]
  },
  {
   "cell_type": "code",
   "execution_count": 29,
   "metadata": {},
   "outputs": [
    {
     "data": {
      "text/plain": [
       "array([-0.44140367,  0.19925389, -0.19457131,  0.46574029, -0.36123858,\n",
       "        0.67418071, -0.28387973,  0.39524176, -0.11496371,  0.31963519])"
      ]
     },
     "execution_count": 29,
     "metadata": {},
     "output_type": "execute_result"
    }
   ],
   "source": [
    "coefficients"
   ]
  },
  {
   "cell_type": "code",
   "execution_count": 30,
   "metadata": {},
   "outputs": [],
   "source": [
    "# obtém as features mais importantes (aquelas com coeficiente não nulo)\n",
    "important_features = [i for i, coef in enumerate(coefficients) if coef != 0]"
   ]
  },
  {
   "cell_type": "code",
   "execution_count": 31,
   "metadata": {},
   "outputs": [],
   "source": [
    "feature_importance = list(zip(assembler.getInputCols(), modelo.coefficients.toArray()))"
   ]
  },
  {
   "cell_type": "code",
   "execution_count": 32,
   "metadata": {},
   "outputs": [
    {
     "data": {
      "text/plain": [
       "[('amount', -0.44140366598496533),\n",
       " ('duration', 0.1992538902862431),\n",
       " ('payments', -0.1945713091696159),\n",
       " ('min1', 0.46574029122558336),\n",
       " ('max1', -0.36123857645703733),\n",
       " ('mean1', 0.6741807087636067),\n",
       " ('mean6', -0.2838797275156386),\n",
       " ('has_card', 0.3952417574842975),\n",
       " ('idade', -0.11496370821418399),\n",
       " ('days_between', 0.31963519439202237)]"
      ]
     },
     "execution_count": 32,
     "metadata": {},
     "output_type": "execute_result"
    }
   ],
   "source": [
    "feature_importance"
   ]
  },
  {
   "cell_type": "code",
   "execution_count": 33,
   "metadata": {},
   "outputs": [
    {
     "name": "stdout",
     "output_type": "stream",
     "text": [
      "AUC on training data = 0.752386\n"
     ]
    }
   ],
   "source": [
    "# assuming `model` is your trained LogisticRegressionModel object, and `trainData` is your training data DataFrame\n",
    "predictions_train = modelo.transform(trainData)\n",
    "auc_train = evaluator.evaluate(predictions_train)\n",
    "print(\"AUC on training data = %g\" % auc_train)"
   ]
  },
  {
   "attachments": {},
   "cell_type": "markdown",
   "metadata": {},
   "source": [
    "Avalia o modelo com os dados de teste"
   ]
  },
  {
   "cell_type": "code",
   "execution_count": 38,
   "metadata": {},
   "outputs": [
    {
     "name": "stdout",
     "output_type": "stream",
     "text": [
      "AUC on test data = 0.734202\n"
     ]
    }
   ],
   "source": [
    "# assuming `model` is your trained LogisticRegressionModel object, and `trainData` is your training data DataFrame\n",
    "predictions_teste = modelo.transform(testData)\n",
    "auc_test = evaluator.evaluate(predictions_teste)\n",
    "print(\"AUC on test data = %g\" % auc_test)"
   ]
  },
  {
   "cell_type": "code",
   "execution_count": 35,
   "metadata": {},
   "outputs": [
    {
     "name": "stdout",
     "output_type": "stream",
     "text": [
      "root\n",
      " |-- amount: integer (nullable = true)\n",
      " |-- duration: integer (nullable = true)\n",
      " |-- payments: double (nullable = true)\n",
      " |-- min1: double (nullable = true)\n",
      " |-- max1: double (nullable = true)\n",
      " |-- mean1: double (nullable = true)\n",
      " |-- mean6: double (nullable = false)\n",
      " |-- has_card: integer (nullable = true)\n",
      " |-- idade: integer (nullable = true)\n",
      " |-- days_between: integer (nullable = true)\n",
      " |-- label: integer (nullable = true)\n",
      " |-- features: vector (nullable = true)\n",
      " |-- scaledFeatures: vector (nullable = true)\n",
      " |-- rawPrediction: vector (nullable = true)\n",
      " |-- probability: vector (nullable = true)\n",
      " |-- prediction: double (nullable = false)\n",
      "\n"
     ]
    }
   ],
   "source": [
    "predictions_teste.printSchema()"
   ]
  },
  {
   "attachments": {},
   "cell_type": "markdown",
   "metadata": {},
   "source": [
    "O vetor abaixo indica que, na linha 1 por exemplo, a probabilidade de pertencer à classe 0 (BOM - APTO AO EMPRESTIMO) é de 0.057 e à classe 1 (MAU - INAPTO AO EMPRESTIMO) é de 0.942."
   ]
  },
  {
   "attachments": {},
   "cell_type": "markdown",
   "metadata": {},
   "source": [
    "Ou seja, quanto mais o SCORE, mais chances de não ser concedido o empréstimo."
   ]
  },
  {
   "cell_type": "code",
   "execution_count": 36,
   "metadata": {},
   "outputs": [
    {
     "name": "stdout",
     "output_type": "stream",
     "text": [
      "+-----------------------------------------+\n",
      "|probability                              |\n",
      "+-----------------------------------------+\n",
      "|[0.057585893661319866,0.9424141063386803]|\n",
      "|[0.024207806939383646,0.9757921930606164]|\n",
      "|[0.017197850174292668,0.9828021498257073]|\n",
      "|[0.038465008801542966,0.961534991198457] |\n",
      "|[0.07434340271245267,0.9256565972875472] |\n",
      "|[0.04062857484270776,0.9593714251572923] |\n",
      "|[0.07861198400648306,0.9213880159935169] |\n",
      "|[0.0689411472811062,0.9310588527188939]  |\n",
      "|[0.09163813490888457,0.9083618650911155] |\n",
      "|[0.09927361069329263,0.9007263893067073] |\n",
      "|[0.03748266207665693,0.9625173379233432] |\n",
      "|[0.04463708220051664,0.9553629177994833] |\n",
      "|[0.0584679374786745,0.9415320625213255]  |\n",
      "|[0.016960692927537,0.983039307072463]    |\n",
      "|[0.03546721660805609,0.9645327833919438] |\n",
      "|[0.04016570078116782,0.9598342992188322] |\n",
      "|[0.011957337745994341,0.9880426622540057]|\n",
      "|[0.0411236486029402,0.9588763513970598]  |\n",
      "|[0.04688460051171686,0.9531153994882832] |\n",
      "|[0.13646218129213358,0.8635378187078664] |\n",
      "+-----------------------------------------+\n",
      "only showing top 20 rows\n",
      "\n"
     ]
    }
   ],
   "source": [
    "predictions_teste.select('probability').show(truncate=False)"
   ]
  },
  {
   "attachments": {},
   "cell_type": "markdown",
   "metadata": {},
   "source": [
    "Observando as métricas do modelo"
   ]
  },
  {
   "cell_type": "code",
   "execution_count": 37,
   "metadata": {},
   "outputs": [
    {
     "name": "stdout",
     "output_type": "stream",
     "text": [
      "Precision = 0.949816\n",
      "Recall = 0.734202\n"
     ]
    }
   ],
   "source": [
    "# Importa as métricas de avaliação\n",
    "from pyspark.ml.evaluation import BinaryClassificationEvaluator\n",
    "\n",
    "# Cria o avaliador com a métrica de área sob a curva PR (precisão e recall)\n",
    "evaluator = BinaryClassificationEvaluator(metricName=\"areaUnderPR\")\n",
    "\n",
    "# Usa o modelo para fazer previsões na base de teste\n",
    "predictions_teste = modelo.transform(testData)\n",
    "\n",
    "# Calcula a métrica de precisão\n",
    "precision = evaluator.evaluate(predictions_teste)\n",
    "\n",
    "# Calcula a métrica de recall\n",
    "evaluator = BinaryClassificationEvaluator(metricName=\"areaUnderROC\")\n",
    "recall = evaluator.evaluate(predictions_teste)\n",
    "\n",
    "\n",
    "print(\"Precision = %g\" % precision)\n",
    "print(\"Recall = %g\" % recall)"
   ]
  },
  {
   "cell_type": "code",
   "execution_count": 39,
   "metadata": {},
   "outputs": [
    {
     "name": "stdout",
     "output_type": "stream",
     "text": [
      "+------+--------+--------+--------+-------+------------------+------------------+--------+-----+------------+-----+--------------------+--------------------+--------------------+--------------------+----------+\n",
      "|amount|duration|payments|    min1|   max1|             mean1|             mean6|has_card|idade|days_between|label|            features|      scaledFeatures|       rawPrediction|         probability|prediction|\n",
      "+------+--------+--------+--------+-------+------------------+------------------+--------+-----+------------+-----+--------------------+--------------------+--------------------+--------------------+----------+\n",
      "| 11400|      12|   950.0| 14280.0| 7480.1|27187.800000000003|26998.052000000003|       0|   16|         357|    1|[11400.0,12.0,950...|[0.09949637218872...|[-2.7951671453157...|[0.05758589366131...|       1.0|\n",
      "| 15192|      24|   633.0| 14268.9|  500.0| 30119.46792452831|28838.030252100845|       0|   23|         685|    1|[15192.0,24.0,633...|[0.13259200756939...|[-3.6965744648578...|[0.02420780693938...|       1.0|\n",
      "| 17508|      12|  1459.0| 12620.0|  900.0| 39081.40909090909| 37194.27631578947|       1|   48|         450|    1|[17508.0,12.0,145...|[0.15280548107720...|[-4.0456234419536...|[0.01719785017429...|       1.0|\n",
      "| 19044|      36|   529.0| 24726.0|64981.1|  43543.2507936508| 43201.26969696969|       0|   22|         410|    1|[19044.0,36.0,529...|[0.16621130806684...|[-3.2187819909383...|[0.03846500880154...|       1.0|\n",
      "| 19248|      12|  1604.0| 18929.0|60870.3|36092.539393939405| 38939.21621621624|       0|   26|         422|    1|[19248.0,12.0,160...|[0.16799176946390...|[-2.5218083844870...|[0.07434340271245...|       1.0|\n",
      "| 20352|      48|   424.0| 17890.3| 8790.4| 32354.15250000001|24969.018181818188|       0|   43|         283|    1|[20352.0,48.0,424...|[0.17762720761270...|[-3.1618066716415...|[0.04062857484270...|       1.0|\n",
      "| 21924|      36|   609.0|  1100.0|60432.4| 33582.53846153848|28192.636363636364|       0|   33|         297|    1|[21924.0,36.0,609...|[0.19134723367241...|[-2.4613570900265...|[0.07861198400648...|       1.0|\n",
      "| 23328|      12|  1944.0|  1000.0|68151.2| 41096.56842105262|            1000.0|       0|   38|         187|    1|[23328.0,12.0,194...|[0.20360099740513...|[-2.6030692871162...|[0.06894114728110...|       1.0|\n",
      "| 23520|      12|  1960.0| 12261.0|  500.0|26393.691525423743|         29273.344|       0|   53|         355|    1|[23520.0,12.0,196...|[0.20527672577883...|[-2.2937953240364...|[0.09163813490888...|       1.0|\n",
      "| 30276|      12|  2523.0|  1000.0| 8322.5| 31481.05952380953| 34767.38666666667|       0|   57|         388|    0|[30276.0,12.0,252...|[0.26424141792857...|[-2.2053217546325...|[0.09927361069329...|       1.0|\n",
      "| 31176|      24|  1299.0| 27489.1|  700.0|        45768.7625|          40452.95|       0|   27|         173|    1|[31176.0,24.0,129...|[0.27209639468031...|[-3.2456735979868...|[0.03748266207665...|       1.0|\n",
      "| 32640|      48|   680.0| 13769.7| 7443.0|26987.362886597934|26637.145762711865|       0|   53|         482|    1|[32640.0,48.0,680...|[0.28487382352981...|[-3.0635263338849...|[0.04463708220051...|       1.0|\n",
      "| 35904|      48|   748.0| 14342.0|  900.0|23813.912244897954|17574.480000000003|       0|   51|         296|    1|[35904.0,48.0,748...|[0.31336120588279...|[-2.7790298755390...|[0.05846793747867...|       1.0|\n",
      "| 36396|      12|  3033.0|100453.2|97187.5|58357.004605263166| 61179.58482142858|       0|   23|         671|    1|[36396.0,12.0,303...|[0.31765525984041...|[-4.0597506200909...|[0.01696069292753...|       1.0|\n",
      "| 37908|      12|  3159.0| 18341.9|  800.0| 41333.50138888889| 36413.58695652175|       0|   19|         460|    1|[37908.0,12.0,315...|[0.33085162078334...|[-3.3030350278209...|[0.03546721660805...|       1.0|\n",
      "| 38496|      12|  3208.0| 16196.8|85752.5| 35531.60333333334|22282.233333333334|       1|   34|         390|    1|[38496.0,12.0,320...|[0.33598353892781...|[-3.1737472475519...|[0.04016570078116...|       1.0|\n",
      "| 39024|      12|  3252.0|100094.0|97665.0| 61163.91472868214| 67996.16860465113|       1|   60|         530|    1|[39024.0,12.0,325...|[0.34059179195550...|[-4.4143807499792...|[0.01195733774599...|       1.0|\n",
      "| 39168|      24|  1632.0| 20608.0|81495.6|54615.425531914894| 43782.09999999999|       0|   19|         347|    1|[39168.0,24.0,163...|[0.34184858823577...|[-3.1491787838084...|[0.04112364860294...|       1.0|\n",
      "| 42384|      12|  3532.0|104962.4|98818.0| 48511.71428571428| 53530.87160493826|       0|   56|         475|    1|[42384.0,12.0,353...|[0.36991703849533...|[-3.0120467128407...|[0.04688460051171...|       1.0|\n",
      "| 42816|      12|  3568.0| 10373.9| 9181.5|17081.686250000006|           18680.1|       0|   61|         458|    1|[42816.0,12.0,356...|[0.37368742733617...|[-1.8449901775199...|[0.13646218129213...|       1.0|\n",
      "+------+--------+--------+--------+-------+------------------+------------------+--------+-----+------------+-----+--------------------+--------------------+--------------------+--------------------+----------+\n",
      "only showing top 20 rows\n",
      "\n"
     ]
    }
   ],
   "source": [
    "predictions_teste.show()"
   ]
  },
  {
   "cell_type": "code",
   "execution_count": 41,
   "metadata": {},
   "outputs": [
    {
     "name": "stdout",
     "output_type": "stream",
     "text": [
      "0.9424141063386803\n",
      "0.9757921930606164\n",
      "0.9828021498257073\n",
      "0.961534991198457\n",
      "0.9256565972875472\n",
      "0.9593714251572923\n",
      "0.9213880159935169\n",
      "0.9310588527188939\n",
      "0.9083618650911155\n",
      "0.9007263893067073\n",
      "0.9625173379233432\n",
      "0.9553629177994833\n",
      "0.9415320625213255\n",
      "0.983039307072463\n",
      "0.9645327833919438\n",
      "0.9598342992188322\n",
      "0.9880426622540057\n",
      "0.9588763513970598\n",
      "0.9531153994882832\n",
      "0.8635378187078664\n",
      "0.8501958944642176\n",
      "0.9835795272106305\n",
      "0.9103170103559756\n",
      "0.9404756135887457\n",
      "0.9226936215447812\n",
      "0.9885049707251697\n",
      "0.9737444155940493\n",
      "0.9729662039588253\n",
      "0.8937144121664196\n",
      "0.8740287358835879\n",
      "0.9797137487847206\n",
      "0.9492420577364008\n",
      "0.9834055564417041\n",
      "0.9596294623136739\n",
      "0.9899835847426406\n",
      "0.9473113595131655\n",
      "0.9760670919874521\n",
      "0.9372403490883154\n",
      "0.8718376222099049\n",
      "0.9512576602882075\n",
      "0.9317939890167731\n",
      "0.9335861622399257\n",
      "0.9927433865547762\n",
      "0.9629106407107494\n",
      "0.9386936408484287\n",
      "0.9783265433195173\n",
      "0.9609142773238208\n",
      "0.8817974612506215\n",
      "0.9244222214724037\n",
      "0.9294109548563946\n",
      "0.744870216476286\n",
      "0.9661563935951478\n",
      "0.782739443596473\n",
      "0.9446337475168451\n",
      "0.9804793251691585\n",
      "0.9433962230370765\n",
      "0.8601638442944947\n",
      "0.858037633223985\n",
      "0.9829610547259464\n",
      "0.9785466236021729\n",
      "0.8877027671660378\n",
      "0.9409531367687316\n",
      "0.9207299305194588\n",
      "0.9725590318463192\n",
      "0.9043241666758006\n",
      "0.9389167311986798\n",
      "0.9357859644740777\n",
      "0.9710875732979718\n",
      "0.859813193165876\n",
      "0.9757213058795442\n",
      "0.9894597003011424\n",
      "0.9834407229805122\n",
      "0.816978352435236\n",
      "0.8329277329853163\n",
      "0.826727073802613\n",
      "0.9936057528568191\n",
      "0.9838009992944493\n",
      "0.9856841856681996\n",
      "0.9375210728282964\n",
      "0.9916696039669246\n",
      "0.8881618040404404\n",
      "0.9204402773657041\n",
      "0.9436319967906556\n",
      "0.9793013846256744\n",
      "0.9580473644598309\n",
      "0.947234817059727\n",
      "0.9140062798711691\n",
      "0.893405820329454\n",
      "0.7531594176939004\n",
      "0.9281044655497572\n",
      "0.9427386389214604\n",
      "0.9428136882581336\n",
      "0.8664975238310222\n",
      "0.986013667077535\n",
      "0.4427172590474997\n",
      "0.986541380984557\n",
      "0.8580992176691279\n",
      "0.7388637713841849\n",
      "0.9639877514661124\n",
      "0.7806028879441453\n",
      "0.9882741501663636\n",
      "0.9687042609125559\n",
      "0.91547032767708\n",
      "0.8687060384225244\n",
      "0.9833369430121134\n",
      "0.9617771278227968\n",
      "0.9401874490406189\n",
      "0.9794391199778093\n",
      "0.8902040664115387\n",
      "0.9433897898938777\n",
      "0.9352847598505036\n",
      "0.9541213898912136\n",
      "0.9811599589955551\n",
      "0.9221207791872005\n",
      "0.9103701442296014\n",
      "0.9678656564172582\n",
      "0.9349671879826708\n",
      "0.7388925899974139\n",
      "0.9494291099070986\n",
      "0.9686482140508311\n",
      "0.9514085622760841\n",
      "0.9668808225651557\n",
      "0.8637966651274205\n",
      "0.8603395659128495\n",
      "0.9516263006725013\n",
      "0.9789116363509438\n",
      "0.9359348648890952\n",
      "0.75283963252178\n",
      "0.9819196260864494\n",
      "0.9621027912267152\n",
      "0.9457646897953853\n",
      "0.9034209809917069\n",
      "0.9270945012570442\n",
      "0.8867933309101224\n",
      "0.9200389437231246\n",
      "0.8709926231532685\n",
      "0.9501404194434313\n",
      "0.9690032456551916\n",
      "0.8637865546404406\n",
      "0.9926337617663742\n",
      "0.8497897254363633\n",
      "0.9106848207247037\n",
      "0.9570166386991374\n",
      "0.9367997177069488\n",
      "0.8921265690271639\n",
      "0.8578723683764056\n",
      "0.92493580485946\n",
      "0.8258788059218076\n",
      "0.7990153856055457\n",
      "0.8683982135366469\n",
      "0.927959293394481\n",
      "0.9904719237431319\n",
      "0.8794240115739949\n",
      "0.8569550234356327\n",
      "0.9780728701230514\n",
      "0.9367359700787466\n",
      "0.9362134885086016\n",
      "0.9959643439206431\n",
      "0.5582200760509114\n",
      "0.8952811436900433\n",
      "0.8944548726078999\n",
      "0.8561834352590664\n",
      "0.789147726845474\n",
      "0.9487164866275363\n",
      "0.9619230485648573\n",
      "0.9805417412361457\n",
      "0.9728591443980604\n",
      "0.9500469303103622\n",
      "0.9931302993367271\n",
      "0.9708365696665853\n",
      "0.8758407192348633\n",
      "0.9013517192333588\n",
      "0.9385380956106558\n",
      "0.8809762625659655\n",
      "0.8827365536633878\n",
      "0.9357127097193341\n",
      "0.9638127313252697\n",
      "0.9550668035035398\n",
      "0.8480653717947939\n",
      "0.9598760092398302\n",
      "0.8593935377085105\n",
      "0.6904079261152845\n",
      "0.9703351319153558\n",
      "0.9630251369799437\n",
      "0.7617215951273087\n",
      "0.9403926710955107\n",
      "0.8634689141249084\n",
      "0.9628564386451652\n",
      "0.8928435957947627\n",
      "0.8584042964386757\n",
      "0.8936568818377483\n",
      "0.8472614357388402\n",
      "0.9862814478604043\n",
      "0.847856926641059\n",
      "0.8995810595324452\n",
      "0.7777579208025113\n",
      "0.9855451796106796\n",
      "0.9929348053067634\n",
      "0.8394339172438995\n",
      "0.8349227514964892\n",
      "0.723413542849405\n",
      "0.7065036549743595\n",
      "0.8940578157428409\n",
      "0.9421998044760701\n",
      "0.9001038474692477\n",
      "0.7959183759022764\n",
      "0.9317103346952483\n",
      "0.6774929996319558\n",
      "0.6736430985289512\n",
      "0.9817071998004234\n",
      "0.8596879572017216\n",
      "0.9454110656244709\n",
      "0.7776007004149915\n",
      "0.765213217106758\n",
      "0.8442927608265423\n",
      "0.9677980096659641\n",
      "0.9085772005598444\n",
      "0.9776211446526241\n",
      "0.9500471175788868\n",
      "0.978759619430192\n",
      "0.7849530403556396\n",
      "0.7682962558199065\n",
      "0.9023004610143079\n",
      "0.9541767208580921\n",
      "0.7071528680136908\n",
      "0.8765744713359408\n",
      "0.9470747732228582\n",
      "0.8053469016910973\n",
      "0.6203672828158485\n",
      "0.66490826165634\n",
      "0.5124745538104288\n",
      "0.9046942534753394\n",
      "0.8015682234031911\n",
      "0.5003725261368364\n",
      "0.47964886931258066\n"
     ]
    }
   ],
   "source": [
    "# Acesse a probabilidade de saída\n",
    "probabilities = predictions_teste.select(\"probability\").rdd.map(lambda x: x[0][1])\n",
    "\n",
    "# Exiba as probabilidades\n",
    "for probability in probabilities.collect():\n",
    "    print(probability)"
   ]
  },
  {
   "cell_type": "code",
   "execution_count": 80,
   "metadata": {},
   "outputs": [
    {
     "name": "stdout",
     "output_type": "stream",
     "text": [
      "+------+--------+--------+--------+-------+------------------+------------------+--------+-----+------------+-----+--------------------+--------------------+--------------------+--------------------+----------+------------------+\n",
      "|amount|duration|payments|    min1|   max1|             mean1|             mean6|has_card|idade|days_between|label|            features|      scaledFeatures|       rawPrediction|         probability|prediction|             score|\n",
      "+------+--------+--------+--------+-------+------------------+------------------+--------+-----+------------+-----+--------------------+--------------------+--------------------+--------------------+----------+------------------+\n",
      "| 11400|      12|   950.0| 14280.0| 7480.1|27187.800000000003|26998.052000000003|       0|   16|         357|    1|[11400.0,12.0,950...|[0.09949637218872...|[-2.7951671453157...|[0.05758589366131...|       1.0|0.9424141063386803|\n",
      "| 15192|      24|   633.0| 14268.9|  500.0| 30119.46792452831|28838.030252100845|       0|   23|         685|    1|[15192.0,24.0,633...|[0.13259200756939...|[-3.6965744648578...|[0.02420780693938...|       1.0|0.9757921930606164|\n",
      "| 17508|      12|  1459.0| 12620.0|  900.0| 39081.40909090909| 37194.27631578947|       1|   48|         450|    1|[17508.0,12.0,145...|[0.15280548107720...|[-4.0456234419536...|[0.01719785017429...|       1.0|0.9828021498257073|\n",
      "| 19044|      36|   529.0| 24726.0|64981.1|  43543.2507936508| 43201.26969696969|       0|   22|         410|    1|[19044.0,36.0,529...|[0.16621130806684...|[-3.2187819909383...|[0.03846500880154...|       1.0| 0.961534991198457|\n",
      "| 19248|      12|  1604.0| 18929.0|60870.3|36092.539393939405| 38939.21621621624|       0|   26|         422|    1|[19248.0,12.0,160...|[0.16799176946390...|[-2.5218083844870...|[0.07434340271245...|       1.0|0.9256565972875472|\n",
      "| 20352|      48|   424.0| 17890.3| 8790.4| 32354.15250000001|24969.018181818188|       0|   43|         283|    1|[20352.0,48.0,424...|[0.17762720761270...|[-3.1618066716415...|[0.04062857484270...|       1.0|0.9593714251572923|\n",
      "| 21924|      36|   609.0|  1100.0|60432.4| 33582.53846153848|28192.636363636364|       0|   33|         297|    1|[21924.0,36.0,609...|[0.19134723367241...|[-2.4613570900265...|[0.07861198400648...|       1.0|0.9213880159935169|\n",
      "| 23328|      12|  1944.0|  1000.0|68151.2| 41096.56842105262|            1000.0|       0|   38|         187|    1|[23328.0,12.0,194...|[0.20360099740513...|[-2.6030692871162...|[0.06894114728110...|       1.0|0.9310588527188939|\n",
      "| 23520|      12|  1960.0| 12261.0|  500.0|26393.691525423743|         29273.344|       0|   53|         355|    1|[23520.0,12.0,196...|[0.20527672577883...|[-2.2937953240364...|[0.09163813490888...|       1.0|0.9083618650911155|\n",
      "| 30276|      12|  2523.0|  1000.0| 8322.5| 31481.05952380953| 34767.38666666667|       0|   57|         388|    0|[30276.0,12.0,252...|[0.26424141792857...|[-2.2053217546325...|[0.09927361069329...|       1.0|0.9007263893067073|\n",
      "| 31176|      24|  1299.0| 27489.1|  700.0|        45768.7625|          40452.95|       0|   27|         173|    1|[31176.0,24.0,129...|[0.27209639468031...|[-3.2456735979868...|[0.03748266207665...|       1.0|0.9625173379233432|\n",
      "| 32640|      48|   680.0| 13769.7| 7443.0|26987.362886597934|26637.145762711865|       0|   53|         482|    1|[32640.0,48.0,680...|[0.28487382352981...|[-3.0635263338849...|[0.04463708220051...|       1.0|0.9553629177994833|\n",
      "| 35904|      48|   748.0| 14342.0|  900.0|23813.912244897954|17574.480000000003|       0|   51|         296|    1|[35904.0,48.0,748...|[0.31336120588279...|[-2.7790298755390...|[0.05846793747867...|       1.0|0.9415320625213255|\n",
      "| 36396|      12|  3033.0|100453.2|97187.5|58357.004605263166| 61179.58482142858|       0|   23|         671|    1|[36396.0,12.0,303...|[0.31765525984041...|[-4.0597506200909...|[0.01696069292753...|       1.0| 0.983039307072463|\n",
      "| 37908|      12|  3159.0| 18341.9|  800.0| 41333.50138888889| 36413.58695652175|       0|   19|         460|    1|[37908.0,12.0,315...|[0.33085162078334...|[-3.3030350278209...|[0.03546721660805...|       1.0|0.9645327833919438|\n",
      "| 38496|      12|  3208.0| 16196.8|85752.5| 35531.60333333334|22282.233333333334|       1|   34|         390|    1|[38496.0,12.0,320...|[0.33598353892781...|[-3.1737472475519...|[0.04016570078116...|       1.0|0.9598342992188322|\n",
      "| 39024|      12|  3252.0|100094.0|97665.0| 61163.91472868214| 67996.16860465113|       1|   60|         530|    1|[39024.0,12.0,325...|[0.34059179195550...|[-4.4143807499792...|[0.01195733774599...|       1.0|0.9880426622540057|\n",
      "| 39168|      24|  1632.0| 20608.0|81495.6|54615.425531914894| 43782.09999999999|       0|   19|         347|    1|[39168.0,24.0,163...|[0.34184858823577...|[-3.1491787838084...|[0.04112364860294...|       1.0|0.9588763513970598|\n",
      "| 42384|      12|  3532.0|104962.4|98818.0| 48511.71428571428| 53530.87160493826|       0|   56|         475|    1|[42384.0,12.0,353...|[0.36991703849533...|[-3.0120467128407...|[0.04688460051171...|       1.0|0.9531153994882832|\n",
      "| 42816|      12|  3568.0| 10373.9| 9181.5|17081.686250000006|           18680.1|       0|   61|         458|    1|[42816.0,12.0,356...|[0.37368742733617...|[-1.8449901775199...|[0.13646218129213...|       1.0|0.8635378187078664|\n",
      "+------+--------+--------+--------+-------+------------------+------------------+--------+-----+------------+-----+--------------------+--------------------+--------------------+--------------------+----------+------------------+\n",
      "only showing top 20 rows\n",
      "\n"
     ]
    }
   ],
   "source": [
    "# Defina uma função UDF para extrair a probabilidade\n",
    "extract_prob = f.udf(lambda probability: float(probability[1]), DoubleType())\n",
    "\n",
    "# Adicione uma nova coluna 'probability' ao DataFrame\n",
    "predictions = predictions_teste.withColumn('score', extract_prob(predictions_teste['probability']))\n",
    "\n",
    "# Exiba o DataFrame com a coluna de probabilidade\n",
    "predictions.show()"
   ]
  },
  {
   "cell_type": "code",
   "execution_count": 75,
   "metadata": {},
   "outputs": [],
   "source": [
    "import pandas as pd\n",
    "import numpy as np"
   ]
  },
  {
   "cell_type": "code",
   "execution_count": 81,
   "metadata": {},
   "outputs": [],
   "source": [
    "predictions_pd = predictions.toPandas()"
   ]
  },
  {
   "cell_type": "code",
   "execution_count": 82,
   "metadata": {},
   "outputs": [
    {
     "data": {
      "text/plain": [
       "(0.442, 0.858]    47\n",
       "(0.858, 0.911]    47\n",
       "(0.911, 0.946]    47\n",
       "(0.946, 0.971]    47\n",
       "(0.971, 0.996]    47\n",
       "Name: faixas, dtype: int64"
      ]
     },
     "execution_count": 82,
     "metadata": {},
     "output_type": "execute_result"
    }
   ],
   "source": [
    "# Use a função qcut para discretizar os valores em 5 intervalos\n",
    "predictions_pd['faixas'] = pd.qcut(predictions_pd['score'], q=5)\n",
    "predictions_pd['faixas'].value_counts()"
   ]
  },
  {
   "cell_type": "code",
   "execution_count": 86,
   "metadata": {},
   "outputs": [
    {
     "data": {
      "text/html": [
       "<div>\n",
       "<style scoped>\n",
       "    .dataframe tbody tr th:only-of-type {\n",
       "        vertical-align: middle;\n",
       "    }\n",
       "\n",
       "    .dataframe tbody tr th {\n",
       "        vertical-align: top;\n",
       "    }\n",
       "\n",
       "    .dataframe thead th {\n",
       "        text-align: right;\n",
       "    }\n",
       "</style>\n",
       "<table border=\"1\" class=\"dataframe\">\n",
       "  <thead>\n",
       "    <tr style=\"text-align: right;\">\n",
       "      <th></th>\n",
       "      <th>label</th>\n",
       "    </tr>\n",
       "  </thead>\n",
       "  <tbody>\n",
       "    <tr>\n",
       "      <th>count</th>\n",
       "      <td>235.000000</td>\n",
       "    </tr>\n",
       "    <tr>\n",
       "      <th>mean</th>\n",
       "      <td>0.897872</td>\n",
       "    </tr>\n",
       "    <tr>\n",
       "      <th>std</th>\n",
       "      <td>0.303462</td>\n",
       "    </tr>\n",
       "    <tr>\n",
       "      <th>min</th>\n",
       "      <td>0.000000</td>\n",
       "    </tr>\n",
       "    <tr>\n",
       "      <th>25%</th>\n",
       "      <td>1.000000</td>\n",
       "    </tr>\n",
       "    <tr>\n",
       "      <th>50%</th>\n",
       "      <td>1.000000</td>\n",
       "    </tr>\n",
       "    <tr>\n",
       "      <th>75%</th>\n",
       "      <td>1.000000</td>\n",
       "    </tr>\n",
       "    <tr>\n",
       "      <th>max</th>\n",
       "      <td>1.000000</td>\n",
       "    </tr>\n",
       "  </tbody>\n",
       "</table>\n",
       "</div>"
      ],
      "text/plain": [
       "            label\n",
       "count  235.000000\n",
       "mean     0.897872\n",
       "std      0.303462\n",
       "min      0.000000\n",
       "25%      1.000000\n",
       "50%      1.000000\n",
       "75%      1.000000\n",
       "max      1.000000"
      ]
     },
     "execution_count": 86,
     "metadata": {},
     "output_type": "execute_result"
    }
   ],
   "source": [
    "predictions_pd[['label']].describe()"
   ]
  },
  {
   "cell_type": "code",
   "execution_count": 87,
   "metadata": {},
   "outputs": [
    {
     "data": {
      "text/plain": [
       "label\n",
       "1        211\n",
       "0         24\n",
       "dtype: int64"
      ]
     },
     "execution_count": 87,
     "metadata": {},
     "output_type": "execute_result"
    }
   ],
   "source": [
    "predictions_pd[['label']].value_counts()"
   ]
  },
  {
   "cell_type": "code",
   "execution_count": 88,
   "metadata": {},
   "outputs": [
    {
     "data": {
      "text/html": [
       "<div>\n",
       "<style scoped>\n",
       "    .dataframe tbody tr th:only-of-type {\n",
       "        vertical-align: middle;\n",
       "    }\n",
       "\n",
       "    .dataframe tbody tr th {\n",
       "        vertical-align: top;\n",
       "    }\n",
       "\n",
       "    .dataframe thead th {\n",
       "        text-align: right;\n",
       "    }\n",
       "</style>\n",
       "<table border=\"1\" class=\"dataframe\">\n",
       "  <thead>\n",
       "    <tr style=\"text-align: right;\">\n",
       "      <th>label</th>\n",
       "      <th>0</th>\n",
       "      <th>1</th>\n",
       "      <th>All</th>\n",
       "    </tr>\n",
       "    <tr>\n",
       "      <th>faixas</th>\n",
       "      <th></th>\n",
       "      <th></th>\n",
       "      <th></th>\n",
       "    </tr>\n",
       "  </thead>\n",
       "  <tbody>\n",
       "    <tr>\n",
       "      <th>(0.442, 0.858]</th>\n",
       "      <td>11</td>\n",
       "      <td>36</td>\n",
       "      <td>47</td>\n",
       "    </tr>\n",
       "    <tr>\n",
       "      <th>(0.858, 0.911]</th>\n",
       "      <td>7</td>\n",
       "      <td>40</td>\n",
       "      <td>47</td>\n",
       "    </tr>\n",
       "    <tr>\n",
       "      <th>(0.911, 0.946]</th>\n",
       "      <td>4</td>\n",
       "      <td>43</td>\n",
       "      <td>47</td>\n",
       "    </tr>\n",
       "    <tr>\n",
       "      <th>(0.946, 0.971]</th>\n",
       "      <td>1</td>\n",
       "      <td>46</td>\n",
       "      <td>47</td>\n",
       "    </tr>\n",
       "    <tr>\n",
       "      <th>(0.971, 0.996]</th>\n",
       "      <td>1</td>\n",
       "      <td>46</td>\n",
       "      <td>47</td>\n",
       "    </tr>\n",
       "    <tr>\n",
       "      <th>All</th>\n",
       "      <td>24</td>\n",
       "      <td>211</td>\n",
       "      <td>235</td>\n",
       "    </tr>\n",
       "  </tbody>\n",
       "</table>\n",
       "</div>"
      ],
      "text/plain": [
       "label            0    1  All\n",
       "faixas                      \n",
       "(0.442, 0.858]  11   36   47\n",
       "(0.858, 0.911]   7   40   47\n",
       "(0.911, 0.946]   4   43   47\n",
       "(0.946, 0.971]   1   46   47\n",
       "(0.971, 0.996]   1   46   47\n",
       "All             24  211  235"
      ]
     },
     "execution_count": 88,
     "metadata": {},
     "output_type": "execute_result"
    }
   ],
   "source": [
    "pivot_table = pd.pivot_table(predictions_pd, values='score', index='faixas', columns='label', margins=True, aggfunc='count')\n",
    "pivot_table"
   ]
  },
  {
   "cell_type": "code",
   "execution_count": null,
   "metadata": {},
   "outputs": [],
   "source": []
  }
 ],
 "metadata": {
  "kernelspec": {
   "display_name": "base",
   "language": "python",
   "name": "python3"
  },
  "language_info": {
   "codemirror_mode": {
    "name": "ipython",
    "version": 3
   },
   "file_extension": ".py",
   "mimetype": "text/x-python",
   "name": "python",
   "nbconvert_exporter": "python",
   "pygments_lexer": "ipython3",
   "version": "3.8.8"
  },
  "orig_nbformat": 4
 },
 "nbformat": 4,
 "nbformat_minor": 2
}
